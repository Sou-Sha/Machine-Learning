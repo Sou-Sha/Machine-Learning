{
 "cells": [
  {
   "cell_type": "markdown",
   "metadata": {
    "id": "ly4laI7pfGJO"
   },
   "source": [
    "# **Assignment 1**\n",
    "The first assignment walks you through some elements of Python/Numpy. It is meant mostly to familiarize you with Jypyter notebooks. It includes cells for demonstration, leading to clearly-marked cells for questions. \n",
    "\n"
   ]
  },
  {
   "cell_type": "markdown",
   "metadata": {
    "id": "8owP8xk_yi6h"
   },
   "source": [
    "-----------------------"
   ]
  },
  {
   "cell_type": "markdown",
   "metadata": {
    "id": "r_tl0TKffGJP"
   },
   "source": [
    "### **Part 1: Numpy**\n",
    "\n",
    "Let's look at matrix A and how it is presented in Numpy\n",
    "\\begin{equation*}\n",
    "A = \n",
    "\\begin{pmatrix}\n",
    "1 & 2 & 3 \\\\\n",
    "4 & 5 & 6 \\\\\n",
    "7 & 8 & 9\n",
    "\\end{pmatrix}\n",
    "\\end{equation*}"
   ]
  },
  {
   "cell_type": "code",
   "execution_count": null,
   "metadata": {
    "colab": {
     "base_uri": "https://localhost:8080/",
     "height": 204
    },
    "id": "ik4Gngp2fGJQ",
    "outputId": "f1417855-2404-4c9e-8634-936c5f559a3a"
   },
   "outputs": [
    {
     "name": "stdout",
     "output_type": "stream",
     "text": [
      "This is how matrix A will be presented in Numpy:\n",
      "\n",
      " [[1. 2. 3.]\n",
      " [4. 5. 6.]\n",
      " [7. 8. 9.]]\n",
      "\n",
      "We just create a <class 'numpy.ndarray'>\n",
      "Our template has shape as (3, 3) with total size of 9\n",
      "The total dimension of A is 2\n",
      "The data types of elements of A are float64, \n",
      "        which consumes 72 bytes\n"
     ]
    }
   ],
   "source": [
    "import numpy as np\n",
    "A = np.array([[1,2,3],[4,5,6],[7,8,9]], dtype = np.float)\n",
    "print('This is how matrix A will be presented in Numpy:\\n\\n {}\\n'.format(A))\n",
    "\n",
    "# Example of describing A\n",
    "print('We just create a {}'.format(type(A)))\n",
    "print('Our template has shape as {} with total size of {}'.format(A.shape, A.size))\n",
    "print('The total dimension of A is {}'.format(A.ndim))\n",
    "\n",
    "# Multi-line print out\n",
    "print('''The data types of elements of A are {}, \n",
    "        which consumes {} bytes'''.format(A.dtype, A.nbytes))"
   ]
  },
  {
   "cell_type": "code",
   "execution_count": null,
   "metadata": {
    "id": "oqhQyAZTfGJV"
   },
   "outputs": [],
   "source": [
    "# create a copy of A with integer type\n",
    "A_copy = np.array(A, dtype=np.int32)"
   ]
  },
  {
   "cell_type": "markdown",
   "metadata": {
    "id": "2XxgGLoIfGJY"
   },
   "source": [
    "#### NumPy array operations"
   ]
  },
  {
   "cell_type": "code",
   "execution_count": null,
   "metadata": {
    "colab": {
     "base_uri": "https://localhost:8080/",
     "height": 35
    },
    "id": "scImnsyJfGJY",
    "outputId": "7f6fda2c-d172-4286-cb36-32bd61efd502"
   },
   "outputs": [
    {
     "data": {
      "text/plain": [
       "numpy.ndarray"
      ]
     },
     "execution_count": 5,
     "metadata": {
      "tags": []
     },
     "output_type": "execute_result"
    }
   ],
   "source": [
    "# Turn a python list to numpy array\n",
    "checking_acct = [10.1, 2.3, -3, 100]\n",
    "checking_acct_array = np.asarray(checking_acct)\n",
    "type(checking_acct_array)"
   ]
  },
  {
   "cell_type": "code",
   "execution_count": null,
   "metadata": {
    "colab": {
     "base_uri": "https://localhost:8080/",
     "height": 35
    },
    "id": "mHPmhzdOfGJb",
    "outputId": "7bca2509-da2a-4a1e-ad1f-28660f3c01cf"
   },
   "outputs": [
    {
     "data": {
      "text/plain": [
       "array([ 12.1,   4.3,  -1. , 102. ])"
      ]
     },
     "execution_count": 6,
     "metadata": {
      "tags": []
     },
     "output_type": "execute_result"
    }
   ],
   "source": [
    "# adding $2 to each deposit/withdrawl transaction\n",
    "checking_acct_array + 2"
   ]
  },
  {
   "cell_type": "code",
   "execution_count": null,
   "metadata": {
    "colab": {
     "base_uri": "https://localhost:8080/",
     "height": 35
    },
    "id": "RQAbwx5gfGJe",
    "outputId": "25d99b87-d4eb-4fc5-bcd1-12a2b53df7bf"
   },
   "outputs": [
    {
     "data": {
      "text/plain": [
       "array([ 9.6,  1.8, -3.5, 99.5])"
      ]
     },
     "execution_count": 7,
     "metadata": {
      "tags": []
     },
     "output_type": "execute_result"
    }
   ],
   "source": [
    "# subtract $0.5 from each transaction\n",
    "checking_acct_array - 0.5"
   ]
  },
  {
   "cell_type": "code",
   "execution_count": null,
   "metadata": {
    "colab": {
     "base_uri": "https://localhost:8080/",
     "height": 35
    },
    "id": "UaMikHWpfGJg",
    "outputId": "57e35ea4-60ea-4f18-827e-7c739741303b"
   },
   "outputs": [
    {
     "data": {
      "text/plain": [
       "array([ 20.2,   4.6,  -6. , 200. ])"
      ]
     },
     "execution_count": 8,
     "metadata": {
      "tags": []
     },
     "output_type": "execute_result"
    }
   ],
   "source": [
    "# double it up\n",
    "checking_acct_array * 2"
   ]
  },
  {
   "cell_type": "code",
   "execution_count": null,
   "metadata": {
    "colab": {
     "base_uri": "https://localhost:8080/",
     "height": 35
    },
    "id": "Viiu3ePUfGJi",
    "outputId": "ec3b3a8a-d466-4254-fd44-730b9e48ac04"
   },
   "outputs": [
    {
     "data": {
      "text/plain": [
       "array([ 3.36666667,  0.76666667, -1.        , 33.33333333])"
      ]
     },
     "execution_count": 9,
     "metadata": {
      "tags": []
     },
     "output_type": "execute_result"
    }
   ],
   "source": [
    "# divide the amounts by 3\n",
    "checking_acct_array / 3 "
   ]
  },
  {
   "cell_type": "markdown",
   "metadata": {
    "id": "oGZMC38NfGJl"
   },
   "source": [
    "Note: You can't do the above operation with list. You will have to iterate the list's elements. For example"
   ]
  },
  {
   "cell_type": "code",
   "execution_count": null,
   "metadata": {
    "colab": {
     "base_uri": "https://localhost:8080/",
     "height": 35
    },
    "id": "u6EM8P58fGJl",
    "outputId": "eb0d8575-cc42-47a0-e28e-4a465183e399"
   },
   "outputs": [
    {
     "data": {
      "text/plain": [
       "[12.1, 4.3, -1, 102]"
      ]
     },
     "execution_count": 10,
     "metadata": {
      "tags": []
     },
     "output_type": "execute_result"
    }
   ],
   "source": [
    "# to add $2 to each transaction with checking_acct, we must use list comprehension.\n",
    "[x + 2 for x in checking_acct]"
   ]
  },
  {
   "cell_type": "code",
   "execution_count": null,
   "metadata": {
    "colab": {
     "base_uri": "https://localhost:8080/",
     "height": 35
    },
    "id": "eYGHGQRhfGJo",
    "outputId": "394fc9fd-40e0-4b22-8439-cd0e94808e82"
   },
   "outputs": [
    {
     "data": {
      "text/plain": [
       "array([1., 1., 1., 1., 1., 1., 1., 1., 1., 1.])"
      ]
     },
     "execution_count": 11,
     "metadata": {
      "tags": []
     },
     "output_type": "execute_result"
    }
   ],
   "source": [
    "# create a one-dimensional array containing 10 ones\n",
    "np.ones(10)"
   ]
  },
  {
   "cell_type": "code",
   "execution_count": null,
   "metadata": {
    "colab": {
     "base_uri": "https://localhost:8080/",
     "height": 87
    },
    "id": "zU9DzeFtfGJr",
    "outputId": "f2d18081-0b89-4245-f605-8724adfd6ebe"
   },
   "outputs": [
    {
     "data": {
      "text/plain": [
       "array([[1., 0., 0., 0.],\n",
       "       [0., 1., 0., 0.],\n",
       "       [0., 0., 1., 0.],\n",
       "       [0., 0., 0., 1.]])"
      ]
     },
     "execution_count": 12,
     "metadata": {
      "tags": []
     },
     "output_type": "execute_result"
    }
   ],
   "source": [
    "# create an identity matrix\n",
    "np.identity(4)"
   ]
  },
  {
   "cell_type": "code",
   "execution_count": null,
   "metadata": {
    "colab": {
     "base_uri": "https://localhost:8080/",
     "height": 35
    },
    "id": "bzyiFkjpfGJt",
    "outputId": "ae5d8758-1276-45ff-b2d0-278e280a49a4"
   },
   "outputs": [
    {
     "data": {
      "text/plain": [
       "array([ 2,  4,  6,  8, 10, 12, 14, 16, 18])"
      ]
     },
     "execution_count": 13,
     "metadata": {
      "tags": []
     },
     "output_type": "execute_result"
    }
   ],
   "source": [
    "# create an array size 1 x 9 including only even number starting from 2\n",
    "x = np.arange(2,20,2)\n",
    "x"
   ]
  },
  {
   "cell_type": "code",
   "execution_count": null,
   "metadata": {
    "colab": {
     "base_uri": "https://localhost:8080/",
     "height": 69
    },
    "id": "Fi7yU_v3fGJw",
    "outputId": "21728980-d8e3-4952-e7fa-7e88633aebc6"
   },
   "outputs": [
    {
     "data": {
      "text/plain": [
       "array([[ 2,  4,  6],\n",
       "       [ 8, 10, 12],\n",
       "       [14, 16, 18]])"
      ]
     },
     "execution_count": 14,
     "metadata": {
      "tags": []
     },
     "output_type": "execute_result"
    }
   ],
   "source": [
    "# reshape x to size 3 x 3 we get the following matrix\n",
    "x = x.reshape(3,3)\n",
    "x"
   ]
  },
  {
   "cell_type": "code",
   "execution_count": null,
   "metadata": {
    "id": "lhwnA49lfGJy"
   },
   "outputs": [],
   "source": [
    "# transpose x\n",
    "y = x.T"
   ]
  },
  {
   "cell_type": "code",
   "execution_count": null,
   "metadata": {
    "colab": {
     "base_uri": "https://localhost:8080/",
     "height": 69
    },
    "id": "-34yj_jDfGJ0",
    "outputId": "01e76830-e2d2-4f87-e98c-651f6b8b76e8"
   },
   "outputs": [
    {
     "data": {
      "text/plain": [
       "array([[ True, False, False],\n",
       "       [False,  True, False],\n",
       "       [False, False,  True]])"
      ]
     },
     "execution_count": 17,
     "metadata": {
      "tags": []
     },
     "output_type": "execute_result"
    }
   ],
   "source": [
    "# compare two arrays\n",
    "x == y"
   ]
  },
  {
   "cell_type": "code",
   "execution_count": null,
   "metadata": {
    "colab": {
     "base_uri": "https://localhost:8080/",
     "height": 69
    },
    "id": "Akbw9C1PfGJ2",
    "outputId": "eb6246fd-2934-466b-8ab8-012dc0038c07"
   },
   "outputs": [
    {
     "data": {
      "text/plain": [
       "array([[ True,  True,  True],\n",
       "       [ True,  True,  True],\n",
       "       [ True,  True,  True]])"
      ]
     },
     "execution_count": 18,
     "metadata": {
      "tags": []
     },
     "output_type": "execute_result"
    }
   ],
   "source": [
    "x == y.T"
   ]
  },
  {
   "cell_type": "code",
   "execution_count": null,
   "metadata": {
    "colab": {
     "base_uri": "https://localhost:8080/",
     "height": 35
    },
    "id": "PjbS0Y8zfGJ5",
    "outputId": "e7c612e8-675c-43db-b2e3-c3fe7890c82d"
   },
   "outputs": [
    {
     "data": {
      "text/plain": [
       "True"
      ]
     },
     "execution_count": 19,
     "metadata": {
      "tags": []
     },
     "output_type": "execute_result"
    }
   ],
   "source": [
    "np.array_equal(x,y.T)"
   ]
  },
  {
   "cell_type": "code",
   "execution_count": null,
   "metadata": {
    "colab": {
     "base_uri": "https://localhost:8080/",
     "height": 69
    },
    "id": "vC29JsRAfGJ7",
    "outputId": "58404ad6-810b-4975-86fe-0d4bdb277357"
   },
   "outputs": [
    {
     "data": {
      "text/plain": [
       "array([[False,  True,  True],\n",
       "       [False, False,  True],\n",
       "       [False, False, False]])"
      ]
     },
     "execution_count": 20,
     "metadata": {
      "tags": []
     },
     "output_type": "execute_result"
    }
   ],
   "source": [
    "x < y"
   ]
  },
  {
   "cell_type": "code",
   "execution_count": null,
   "metadata": {
    "colab": {
     "base_uri": "https://localhost:8080/",
     "height": 69
    },
    "id": "9CumfUaRfGJ9",
    "outputId": "3ab032de-222a-49b2-974b-f295b9201fbd"
   },
   "outputs": [
    {
     "data": {
      "text/plain": [
       "array([[1., 1., 1.],\n",
       "       [1., 1., 1.],\n",
       "       [1., 1., 1.]])"
      ]
     },
     "execution_count": 21,
     "metadata": {
      "tags": []
     },
     "output_type": "execute_result"
    }
   ],
   "source": [
    "c = np.ones((3,3))\n",
    "c"
   ]
  },
  {
   "cell_type": "code",
   "execution_count": null,
   "metadata": {
    "colab": {
     "base_uri": "https://localhost:8080/",
     "height": 69
    },
    "id": "8sXMycSpfGJ_",
    "outputId": "edecec45-dd32-4c6b-a871-571a526659d6"
   },
   "outputs": [
    {
     "data": {
      "text/plain": [
       "array([[3., 3., 3.],\n",
       "       [3., 3., 3.],\n",
       "       [3., 3., 3.]])"
      ]
     },
     "execution_count": 22,
     "metadata": {
      "tags": []
     },
     "output_type": "execute_result"
    }
   ],
   "source": [
    "# matrix multiplication\n",
    "c.dot(c)"
   ]
  },
  {
   "cell_type": "code",
   "execution_count": null,
   "metadata": {
    "colab": {
     "base_uri": "https://localhost:8080/",
     "height": 104
    },
    "id": "phRTWOZwfGKB",
    "outputId": "6280d4af-4b31-4037-fcc2-cda6b2db1115"
   },
   "outputs": [
    {
     "data": {
      "text/plain": [
       "array([[ 0,  1,  2,  3,  4],\n",
       "       [ 5,  6,  7,  8,  9],\n",
       "       [ 0,  1,  2,  3,  4],\n",
       "       [ 5,  6,  7,  8,  9],\n",
       "       [10, 11, 12, 13, 14]])"
      ]
     },
     "execution_count": 23,
     "metadata": {
      "tags": []
     },
     "output_type": "execute_result"
    }
   ],
   "source": [
    "# stacking/merging two multidimensional arrays\n",
    "x = np.arange(10).reshape(2,5)\n",
    "y = np.arange(15).reshape(3,5)\n",
    "xy = np.vstack((x,y))\n",
    "xy"
   ]
  },
  {
   "cell_type": "code",
   "execution_count": null,
   "metadata": {
    "colab": {
     "base_uri": "https://localhost:8080/",
     "height": 104
    },
    "id": "pwX_qhk4fGKD",
    "outputId": "21af9591-d000-4182-dffc-4ef104909658"
   },
   "outputs": [
    {
     "data": {
      "text/plain": [
       "array([[ 0,  1,  0,  1,  2],\n",
       "       [ 2,  3,  3,  4,  5],\n",
       "       [ 4,  5,  6,  7,  8],\n",
       "       [ 6,  7,  9, 10, 11],\n",
       "       [ 8,  9, 12, 13, 14]])"
      ]
     },
     "execution_count": 24,
     "metadata": {
      "tags": []
     },
     "output_type": "execute_result"
    }
   ],
   "source": [
    "x = np.arange(10).reshape(5,2)\n",
    "y = np.arange(15).reshape(5,3)\n",
    "xy = np.hstack((x,y))\n",
    "xy"
   ]
  },
  {
   "cell_type": "code",
   "execution_count": null,
   "metadata": {
    "colab": {
     "base_uri": "https://localhost:8080/",
     "height": 55
    },
    "id": "YCiyIn78fGKF",
    "outputId": "689a9f09-1fad-4a28-ea7e-8bc51b7c2b3f"
   },
   "outputs": [
    {
     "data": {
      "text/plain": [
       "DescribeResult(nobs=5, minmax=(array([0, 1, 0, 1, 2]), array([ 8,  9, 12, 13, 14])), mean=array([4., 5., 6., 7., 8.]), variance=array([10. , 10. , 22.5, 22.5, 22.5]), skewness=array([0., 0., 0., 0., 0.]), kurtosis=array([-1.3, -1.3, -1.3, -1.3, -1.3]))"
      ]
     },
     "execution_count": 25,
     "metadata": {
      "tags": []
     },
     "output_type": "execute_result"
    }
   ],
   "source": [
    "# checking statistics for xy\n",
    "from scipy import stats\n",
    "stats.describe(xy)"
   ]
  },
  {
   "cell_type": "code",
   "execution_count": null,
   "metadata": {
    "colab": {
     "base_uri": "https://localhost:8080/",
     "height": 745
    },
    "id": "jhXIOt8dfGKH",
    "outputId": "9583166f-1869-44e2-93af-e70dbad8477c"
   },
   "outputs": [
    {
     "name": "stdout",
     "output_type": "stream",
     "text": [
      "x:\n",
      " [[0.49266469 0.33486502 0.7412736 ]\n",
      " [0.59475794 0.65850118 0.92809936]\n",
      " [0.2136804  0.46930849 0.4750797 ]\n",
      " [0.74039277 0.36703399 0.41096467]\n",
      " [0.86708155 0.59614127 0.51938984]\n",
      " [0.97886781 0.74665365 0.37155503]\n",
      " [0.20126823 0.82662516 0.81622739]\n",
      " [0.37548126 0.85016216 0.68534236]\n",
      " [0.69194344 0.22899447 0.96887337]\n",
      " [0.91946176 0.7144352  0.37755927]\n",
      " [0.61818497 0.05686033 0.27736548]\n",
      " [0.25299579 0.37636319 0.14109106]\n",
      " [0.65364594 0.7605472  0.65679731]\n",
      " [0.46798871 0.01798668 0.22327755]\n",
      " [0.38264149 0.84988596 0.59326617]\n",
      " [0.23224013 0.24832153 0.32238065]\n",
      " [0.4180999  0.77425964 0.90547699]\n",
      " [0.172309   0.82035433 0.56631485]\n",
      " [0.76372261 0.06849845 0.68256944]\n",
      " [0.92954045 0.42006985 0.14782972]]\n",
      "\n",
      ",n:\n",
      " 20\n",
      "\n",
      ", min_max:\n",
      " (array([0.172309  , 0.01798668, 0.14109106]), array([0.97886781, 0.85016216, 0.96887337]))\n",
      "\n",
      ", mean:\n",
      " [0.54834844 0.50929339 0.54053669]\n",
      "\n",
      " \n",
      ", var:\n",
      " [0.07036163 0.08190328 0.06574631]\n",
      "\n",
      ", skew:\n",
      " [ 0.10960107 -0.33712929  0.08208175]\n",
      "\n",
      ", kurt:\n",
      " [-1.2601224  -1.25477954 -1.06908361]\n",
      "\n",
      "\n"
     ]
    }
   ],
   "source": [
    "# generate 20 random records, each has 3 features represented by some random number\n",
    "x = np.random.rand(20,3)\n",
    "\n",
    "# check statistics by feature for these records\n",
    "n, min_max, mean, var, skew, kurt = stats.describe(x)\n",
    "\n",
    "# observe the gather statistics\n",
    "print('''x:\\n {}\\n\\n,n:\\n {}\\n\\n, min_max:\\n {}\\n\\n, mean:\\n {}\\n\\n \n",
    ", var:\\n {}\\n\\n, skew:\\n {}\\n\\n, kurt:\\n {}\\n\\n'''.format(x, n, min_max, mean, var, skew, kurt))"
   ]
  },
  {
   "cell_type": "markdown",
   "metadata": {
    "id": "6icgEByffGKK"
   },
   "source": [
    "#### Slice and dice matrix\n",
    "\n",
    "Take out 2 elements in 1st row, 2nd column, and 3rd row, 3rd column of matrix A from above\n",
    "\n",
    "$\\begin{equation*}\n",
    "A = \n",
    "\\begin{pmatrix}\n",
    "1 & 2 & 3 \\\\\n",
    "4 & 5 & 6 \\\\\n",
    "7 & 8 & 9\n",
    "\\end{pmatrix}\n",
    "\\end{equation*}\n",
    "$"
   ]
  },
  {
   "cell_type": "code",
   "execution_count": null,
   "metadata": {
    "colab": {
     "base_uri": "https://localhost:8080/",
     "height": 35
    },
    "id": "7R8ypS2zfGKN",
    "outputId": "2e70a713-dd19-48d2-ed78-0b8988a42d33"
   },
   "outputs": [
    {
     "data": {
      "text/plain": [
       "array([2., 9.])"
      ]
     },
     "execution_count": 27,
     "metadata": {
      "tags": []
     },
     "output_type": "execute_result"
    }
   ],
   "source": [
    "# numpy is indexed from 0. Slice by row and then by column\n",
    "A[[0,2],[1,2]]"
   ]
  },
  {
   "cell_type": "markdown",
   "metadata": {
    "id": "BfRzbPUXfGKQ"
   },
   "source": [
    "#### Resize and reshape matrix\n",
    "Matrix will be truncated or element values will be repeated if the reshape makes the matrix to be a bigger matrix."
   ]
  },
  {
   "cell_type": "code",
   "execution_count": null,
   "metadata": {
    "colab": {
     "base_uri": "https://localhost:8080/",
     "height": 243
    },
    "id": "_YNyARm1fGKQ",
    "outputId": "d127a291-9183-4b7a-f381-3f79937c9ed9"
   },
   "outputs": [
    {
     "name": "stdout",
     "output_type": "stream",
     "text": [
      "[[1 2 3]\n",
      " [4 5 6]\n",
      " [7 8 9]]\n",
      "\n",
      "resize smaller\n",
      " [[1 2]\n",
      " [3 4]]\n",
      "\n",
      "resize bigger\n",
      " [[1 2 3 4]\n",
      " [5 6 7 8]\n",
      " [9 1 2 3]\n",
      " [4 5 6 7]]\n"
     ]
    }
   ],
   "source": [
    "x = (np.arange(9)+1).reshape(3,3)\n",
    "print(x)\n",
    "print('\\nresize smaller\\n {}'.format(np.resize(x,(2,2))))\n",
    "print('\\nresize bigger\\n {}'.format(np.resize(x,(4,4))))"
   ]
  },
  {
   "cell_type": "markdown",
   "metadata": {
    "id": "bdtCXeGxfGKS"
   },
   "source": [
    "#### Multiplying two matrices\n",
    "An 1-dimensional array is treated as a vector"
   ]
  },
  {
   "cell_type": "code",
   "execution_count": null,
   "metadata": {
    "colab": {
     "base_uri": "https://localhost:8080/",
     "height": 35
    },
    "id": "YOFS8ioofGKT",
    "outputId": "4822cfc5-e87b-44a5-885e-0309521670fa"
   },
   "outputs": [
    {
     "data": {
      "text/plain": [
       "array([0, 1, 2, 3])"
      ]
     },
     "execution_count": 29,
     "metadata": {
      "tags": []
     },
     "output_type": "execute_result"
    }
   ],
   "source": [
    "# a vector/array y\n",
    "y = np.arange(4)\n",
    "y"
   ]
  },
  {
   "cell_type": "code",
   "execution_count": null,
   "metadata": {
    "colab": {
     "base_uri": "https://localhost:8080/",
     "height": 87
    },
    "id": "mEWuYjlxfGKV",
    "outputId": "eadb74b6-c8c7-4193-8a74-b4ecea635bd9"
   },
   "outputs": [
    {
     "data": {
      "text/plain": [
       "array([[1., 1., 1., 1.],\n",
       "       [1., 1., 1., 1.],\n",
       "       [1., 1., 1., 1.],\n",
       "       [1., 1., 1., 1.]])"
      ]
     },
     "execution_count": 30,
     "metadata": {
      "tags": []
     },
     "output_type": "execute_result"
    }
   ],
   "source": [
    "# a matrix of ones\n",
    "x = np.ones(16).reshape(4,4)\n",
    "x"
   ]
  },
  {
   "cell_type": "code",
   "execution_count": null,
   "metadata": {
    "colab": {
     "base_uri": "https://localhost:8080/",
     "height": 87
    },
    "id": "d0707PxPfGKX",
    "outputId": "adba7cd6-7fcb-4849-8dc8-574300a0ddf7"
   },
   "outputs": [
    {
     "data": {
      "text/plain": [
       "array([[0., 1., 2., 3.],\n",
       "       [0., 1., 2., 3.],\n",
       "       [0., 1., 2., 3.],\n",
       "       [0., 1., 2., 3.]])"
      ]
     },
     "execution_count": 31,
     "metadata": {
      "tags": []
     },
     "output_type": "execute_result"
    }
   ],
   "source": [
    "x*y"
   ]
  },
  {
   "cell_type": "code",
   "execution_count": null,
   "metadata": {
    "colab": {
     "base_uri": "https://localhost:8080/",
     "height": 87
    },
    "id": "EJPYn6rEfGKZ",
    "outputId": "9e37d303-dfdd-486e-ddeb-3d8ea087f326"
   },
   "outputs": [
    {
     "data": {
      "text/plain": [
       "array([[0., 1., 2., 3.],\n",
       "       [0., 1., 2., 3.],\n",
       "       [0., 1., 2., 3.],\n",
       "       [0., 1., 2., 3.]])"
      ]
     },
     "execution_count": 32,
     "metadata": {
      "tags": []
     },
     "output_type": "execute_result"
    }
   ],
   "source": [
    "x*y.T"
   ]
  },
  {
   "cell_type": "code",
   "execution_count": null,
   "metadata": {
    "colab": {
     "base_uri": "https://localhost:8080/",
     "height": 87
    },
    "id": "Tsl6MbI2fGKc",
    "outputId": "496092c7-bdf0-4f11-c6aa-1bb24f7fab04"
   },
   "outputs": [
    {
     "data": {
      "text/plain": [
       "array([[0., 1., 2., 3.],\n",
       "       [0., 1., 2., 3.],\n",
       "       [0., 1., 2., 3.],\n",
       "       [0., 1., 2., 3.]])"
      ]
     },
     "execution_count": 33,
     "metadata": {
      "tags": []
     },
     "output_type": "execute_result"
    }
   ],
   "source": [
    "y*x"
   ]
  },
  {
   "cell_type": "code",
   "execution_count": null,
   "metadata": {
    "colab": {
     "base_uri": "https://localhost:8080/",
     "height": 87
    },
    "id": "fNTRR8DwfGKe",
    "outputId": "51d9da25-8d53-4875-df9d-fb77ac5b117e"
   },
   "outputs": [
    {
     "data": {
      "text/plain": [
       "array([[0., 1., 2., 3.],\n",
       "       [0., 1., 2., 3.],\n",
       "       [0., 1., 2., 3.],\n",
       "       [0., 1., 2., 3.]])"
      ]
     },
     "execution_count": 34,
     "metadata": {
      "tags": []
     },
     "output_type": "execute_result"
    }
   ],
   "source": [
    "y.T*x"
   ]
  },
  {
   "cell_type": "code",
   "execution_count": null,
   "metadata": {
    "colab": {
     "base_uri": "https://localhost:8080/",
     "height": 191
    },
    "id": "vi5kt5OufGKg",
    "outputId": "bc40a839-762e-4f7c-b6c3-9fbc23420852"
   },
   "outputs": [
    {
     "name": "stdout",
     "output_type": "stream",
     "text": [
      "x:\n",
      "[[0 1]\n",
      " [2 3]]\n",
      "\n",
      "y1:\n",
      "[0 1]\n",
      "\n",
      "y2:\n",
      "[[0 1]]\n",
      "\n"
     ]
    }
   ],
   "source": [
    "x = np.arange(4).reshape(2,2)\n",
    "y1 = np.arange(2)\n",
    "y2 = np.arange(2).reshape(1,2) # in numpy this is the same as y1\n",
    "print('x:\\n{}\\n'.format(x))\n",
    "print('y1:\\n{}\\n'.format(y1))\n",
    "print('y2:\\n{}\\n'.format(y2))"
   ]
  },
  {
   "cell_type": "code",
   "execution_count": null,
   "metadata": {
    "colab": {
     "base_uri": "https://localhost:8080/",
     "height": 52
    },
    "id": "-1k0CFOIfGKi",
    "outputId": "af771a85-3be1-403e-fc02-61a72218ea7f"
   },
   "outputs": [
    {
     "data": {
      "text/plain": [
       "array([[0, 1],\n",
       "       [0, 3]])"
      ]
     },
     "execution_count": 36,
     "metadata": {
      "tags": []
     },
     "output_type": "execute_result"
    }
   ],
   "source": [
    "x*y1"
   ]
  },
  {
   "cell_type": "code",
   "execution_count": null,
   "metadata": {
    "colab": {
     "base_uri": "https://localhost:8080/",
     "height": 52
    },
    "id": "EW90NQ6nfGKk",
    "outputId": "eaf1b70c-28d6-4697-c646-f98f05c9d581"
   },
   "outputs": [
    {
     "data": {
      "text/plain": [
       "array([[0, 1],\n",
       "       [0, 3]])"
      ]
     },
     "execution_count": 37,
     "metadata": {
      "tags": []
     },
     "output_type": "execute_result"
    }
   ],
   "source": [
    "x*y2"
   ]
  },
  {
   "cell_type": "code",
   "execution_count": null,
   "metadata": {
    "colab": {
     "base_uri": "https://localhost:8080/",
     "height": 156
    },
    "id": "ban5G53YfGKm",
    "outputId": "45e4041c-8ebf-4bae-adb4-69216438f17f"
   },
   "outputs": [
    {
     "name": "stdout",
     "output_type": "stream",
     "text": [
      "[[0 1 2 3 4]\n",
      " [5 6 7 8 9]]\n",
      "\n",
      "[[ 0  1  2]\n",
      " [ 3  4  5]\n",
      " [ 6  7  8]\n",
      " [ 9 10 11]\n",
      " [12 13 14]]\n"
     ]
    }
   ],
   "source": [
    "# generate two matrices\n",
    "a = np.arange(10).reshape(2,5)\n",
    "b = np.arange(15).reshape(5,3)\n",
    "print(a)\n",
    "print()\n",
    "print(b)"
   ]
  },
  {
   "cell_type": "code",
   "execution_count": null,
   "metadata": {
    "colab": {
     "base_uri": "https://localhost:8080/",
     "height": 35
    },
    "id": "iXVjcn_ffGKp",
    "outputId": "92d6f4c8-1bb1-4067-ea13-5a268c667209"
   },
   "outputs": [
    {
     "data": {
      "text/plain": [
       "True"
      ]
     },
     "execution_count": 60,
     "metadata": {
      "tags": []
     },
     "output_type": "execute_result"
    }
   ],
   "source": [
    "# check if operation dot is equal to operation matmul\n",
    "np.array_equal(np.dot(a,b),np.matmul(a,b))"
   ]
  },
  {
   "cell_type": "code",
   "execution_count": null,
   "metadata": {
    "colab": {
     "base_uri": "https://localhost:8080/",
     "height": 52
    },
    "id": "M31vWN03fGKs",
    "outputId": "27c0d652-eadf-43d9-b578-b28359affa15"
   },
   "outputs": [
    {
     "data": {
      "text/plain": [
       "array([[ 90, 100, 110],\n",
       "       [240, 275, 310]])"
      ]
     },
     "execution_count": 61,
     "metadata": {
      "tags": []
     },
     "output_type": "execute_result"
    }
   ],
   "source": [
    "# multiple a by b\n",
    "np.matmul(a,b)"
   ]
  },
  {
   "cell_type": "code",
   "execution_count": null,
   "metadata": {
    "colab": {
     "base_uri": "https://localhost:8080/",
     "height": 52
    },
    "id": "4jhyA0VYfGKv",
    "outputId": "fe2c06b0-1048-4900-fe7b-4ebce39f32ac"
   },
   "outputs": [
    {
     "data": {
      "text/plain": [
       "array([[ 90, 100, 110],\n",
       "       [240, 275, 310]])"
      ]
     },
     "execution_count": 62,
     "metadata": {
      "tags": []
     },
     "output_type": "execute_result"
    }
   ],
   "source": [
    "# another way to multiply a by b\n",
    "a@b"
   ]
  },
  {
   "cell_type": "code",
   "execution_count": null,
   "metadata": {
    "colab": {
     "base_uri": "https://localhost:8080/",
     "height": 104
    },
    "id": "HbJu-_fLfGK0",
    "outputId": "3338a23d-a23c-4102-aac3-1708e93aa2c3"
   },
   "outputs": [
    {
     "name": "stdout",
     "output_type": "stream",
     "text": [
      "[[0 1 2]\n",
      " [3 4 5]\n",
      " [6 7 8]]\n",
      "\n",
      "[0 1 2]\n"
     ]
    }
   ],
   "source": [
    "a = np.arange(9).reshape(3,3)\n",
    "b = np.arange(3)\n",
    "print('{}\\n\\n{}'.format(a,b))"
   ]
  },
  {
   "cell_type": "code",
   "execution_count": null,
   "metadata": {
    "colab": {
     "base_uri": "https://localhost:8080/",
     "height": 35
    },
    "id": "2Cxjq5WFfGK4",
    "outputId": "f5b67213-1c7f-43cf-c5f8-7a65fd2e4e6e"
   },
   "outputs": [
    {
     "data": {
      "text/plain": [
       "array([ 5, 14, 23])"
      ]
     },
     "execution_count": 64,
     "metadata": {
      "tags": []
     },
     "output_type": "execute_result"
    }
   ],
   "source": [
    "# inner product of 2 vectors\n",
    "np.inner(a,b)"
   ]
  },
  {
   "cell_type": "code",
   "execution_count": null,
   "metadata": {
    "colab": {
     "base_uri": "https://localhost:8080/",
     "height": 173
    },
    "id": "AuSfLhm2fGK8",
    "outputId": "0ae15bb1-fa41-4fb0-f183-c785f2852de5"
   },
   "outputs": [
    {
     "data": {
      "text/plain": [
       "array([[ 0,  0,  0],\n",
       "       [ 0,  1,  2],\n",
       "       [ 0,  2,  4],\n",
       "       [ 0,  3,  6],\n",
       "       [ 0,  4,  8],\n",
       "       [ 0,  5, 10],\n",
       "       [ 0,  6, 12],\n",
       "       [ 0,  7, 14],\n",
       "       [ 0,  8, 16]])"
      ]
     },
     "execution_count": 65,
     "metadata": {
      "tags": []
     },
     "output_type": "execute_result"
    }
   ],
   "source": [
    "# outer product of 2 vectors\n",
    "np.outer(a,b)"
   ]
  },
  {
   "cell_type": "markdown",
   "metadata": {
    "id": "bQda4F4EfGK_"
   },
   "source": [
    "#### Solving linear equations\n",
    "An example: Solve three linear equations with 3 unknowns as follows:<br>\n",
    "$x_1 + 2x_2 + 3x_3 = 10$<br>\n",
    "$4x_1 + 4x_2 + 5x_3=4$<br>\n",
    "$3x_1 + 8x_2 + 9x_3 = 3$<br>\n",
    "\n",
    "We have a linear equation to solve as in the form $Ax = B$ where\n",
    "\\begin{equation*}\n",
    "A = \n",
    "\\begin{pmatrix}\n",
    "1 & 2 & 3 \\\\\n",
    "4 & 4 & 5 \\\\\n",
    "3 & 8 & 9\n",
    "\\end{pmatrix}\n",
    ",\n",
    "B = \n",
    "\\begin{pmatrix}\n",
    "10 \\\\\n",
    "4 \\\\\n",
    "3 \n",
    "\\end{pmatrix}\n",
    ",\n",
    "x = \n",
    "\\begin{pmatrix}\n",
    "x_1 \\\\\n",
    "x_2 \\\\\n",
    "x_3 \n",
    "\\end{pmatrix}\n",
    "\\end{equation*}\n",
    "\n",
    "<br>\n",
    "In simple cases, we have $x = A^{-1}B$"
   ]
  },
  {
   "cell_type": "code",
   "execution_count": null,
   "metadata": {
    "colab": {
     "base_uri": "https://localhost:8080/",
     "height": 72
    },
    "id": "PLS1GVLMfGLA",
    "outputId": "fd368022-f7e4-4a86-a8e4-d10a78a293d8"
   },
   "outputs": [
    {
     "data": {
      "text/plain": [
       "array([[-0.28571429,  0.42857143, -0.14285714],\n",
       "       [-1.5       , -0.        ,  0.5       ],\n",
       "       [ 1.42857143, -0.14285714, -0.28571429]])"
      ]
     },
     "execution_count": 69,
     "metadata": {
      "tags": []
     },
     "output_type": "execute_result"
    }
   ],
   "source": [
    "A = np.array([[1,2,3],[4,4,5],[3,8,9]])\n",
    "B = np.array([10,4,3])\n",
    "A_inv = np.linalg.inv(A)\n",
    "A_inv"
   ]
  },
  {
   "cell_type": "code",
   "execution_count": null,
   "metadata": {
    "id": "2_Rev7MEfGLC"
   },
   "outputs": [],
   "source": [
    "x = np.dot(A_inv, B)"
   ]
  },
  {
   "cell_type": "code",
   "execution_count": null,
   "metadata": {
    "colab": {
     "base_uri": "https://localhost:8080/",
     "height": 35
    },
    "id": "e-oPmxrSfGLF",
    "outputId": "c0025e77-2705-4a46-9153-5c0f2a8581aa"
   },
   "outputs": [
    {
     "data": {
      "text/plain": [
       "True"
      ]
     },
     "execution_count": 71,
     "metadata": {
      "tags": []
     },
     "output_type": "execute_result"
    }
   ],
   "source": [
    "# check results with allclose() function)\n",
    "np.allclose(np.dot(A,x),B)"
   ]
  },
  {
   "cell_type": "markdown",
   "metadata": {
    "id": "Vbt-t8rpEP7R"
   },
   "source": [
    "-----"
   ]
  },
  {
   "cell_type": "markdown",
   "metadata": {
    "id": "77y-VVzxfGLH"
   },
   "source": [
    "\n",
    "## **Question 1**\n",
    "\n",
    "Write code for solving four linear equations with 4 unknowns as follows:<br>\n",
    "$x_1 + 2x_2 + 3x_3 + 5x_4 = 10$<br>\n",
    "$4x_1 + 4x_2 + 5x_3 + 3x_4=4$<br>\n",
    "$3x_1 + 8x_2 + 9x_3 + x_4= 3$<br>\n",
    "$x_1 + x_2 + 3x_3 = 7$<br><br>\n",
    "\n",
    "Afterwards, check results with allclose( ) function. And print out x.\n",
    "\n",
    "<b>Expected result</b><br>x = array([-1.17857143, -3.875     ,  4.01785714,  1.375     ])\n"
   ]
  },
  {
   "cell_type": "code",
   "execution_count": null,
   "metadata": {
    "colab": {
     "base_uri": "https://localhost:8080/",
     "height": 68
    },
    "id": "A0wIhEbW04b7",
    "outputId": "a6f9e149-7893-4804-b488-8c59a9d617b7"
   },
   "outputs": [
    {
     "data": {
      "text/plain": [
       "array([[-2.85714286e-01,  4.28571429e-01, -1.42857143e-01],\n",
       "       [-1.50000000e+00, -6.66133815e-17,  5.00000000e-01],\n",
       "       [ 1.42857143e+00, -1.42857143e-01, -2.85714286e-01]])"
      ]
     },
     "execution_count": 3,
     "metadata": {
      "tags": []
     },
     "output_type": "execute_result"
    }
   ],
   "source": [
    "# your code here\n",
    "\n",
    "# this is one way of doing this: \n",
    "A = np.array([[1,2,3],[4,4,5],[3,8,9]])\n",
    "B = np.array([10,4,3])\n",
    "A_inv = np.linalg.inv(A)\n",
    "A_inv\n",
    "\n",
    "\n"
   ]
  },
  {
   "cell_type": "code",
   "execution_count": null,
   "metadata": {
    "colab": {
     "base_uri": "https://localhost:8080/",
     "height": 34
    },
    "id": "nO4O7mrRBdeu",
    "outputId": "d6aaf734-c187-4f4c-9895-6c37493fbf51"
   },
   "outputs": [
    {
     "data": {
      "text/plain": [
       "True"
      ]
     },
     "execution_count": 4,
     "metadata": {
      "tags": []
     },
     "output_type": "execute_result"
    }
   ],
   "source": [
    "x = np.dot(A_inv, B)\n",
    "\n",
    "# check results with allclose() function)\n",
    "np.allclose(np.dot(A,x),B)"
   ]
  },
  {
   "cell_type": "markdown",
   "metadata": {
    "id": "hH8NLj_UfGLK"
   },
   "source": [
    "### **Part 2: Exploring some data**"
   ]
  },
  {
   "cell_type": "code",
   "execution_count": null,
   "metadata": {
    "colab": {
     "base_uri": "https://localhost:8080/",
     "height": 69
    },
    "id": "yJ9yDB9ufGLL",
    "outputId": "ef727bc7-47d4-44d0-fbe2-90c016918adc"
   },
   "outputs": [
    {
     "name": "stdout",
     "output_type": "stream",
     "text": [
      "(506, 13)\n",
      "['CRIM' 'ZN' 'INDUS' 'CHAS' 'NOX' 'RM' 'AGE' 'DIS' 'RAD' 'TAX' 'PTRATIO'\n",
      " 'B' 'LSTAT']\n"
     ]
    }
   ],
   "source": [
    "from sklearn.datasets import load_boston\n",
    "ds = load_boston()\n",
    "samples, label, feature_names = ds.data, ds.target, ds.feature_names\n",
    "print(samples.shape)\n",
    "print(feature_names)"
   ]
  },
  {
   "cell_type": "code",
   "execution_count": null,
   "metadata": {
    "colab": {
     "base_uri": "https://localhost:8080/",
     "height": 921
    },
    "id": "635Xsy-CfGLO",
    "outputId": "11beadef-c2a5-4ef1-f99d-7297c1ca5634"
   },
   "outputs": [
    {
     "name": "stdout",
     "output_type": "stream",
     "text": [
      ".. _boston_dataset:\n",
      "\n",
      "Boston house prices dataset\n",
      "---------------------------\n",
      "\n",
      "**Data Set Characteristics:**  \n",
      "\n",
      "    :Number of Instances: 506 \n",
      "\n",
      "    :Number of Attributes: 13 numeric/categorical predictive. Median Value (attribute 14) is usually the target.\n",
      "\n",
      "    :Attribute Information (in order):\n",
      "        - CRIM     per capita crime rate by town\n",
      "        - ZN       proportion of residential land zoned for lots over 25,000 sq.ft.\n",
      "        - INDUS    proportion of non-retail business acres per town\n",
      "        - CHAS     Charles River dummy variable (= 1 if tract bounds river; 0 otherwise)\n",
      "        - NOX      nitric oxides concentration (parts per 10 million)\n",
      "        - RM       average number of rooms per dwelling\n",
      "        - AGE      proportion of owner-occupied units built prior to 1940\n",
      "        - DIS      weighted distances to five Boston employment centres\n",
      "        - RAD      index of accessibility to radial highways\n",
      "        - TAX      full-value property-tax rate per $10,000\n",
      "        - PTRATIO  pupil-teacher ratio by town\n",
      "        - B        1000(Bk - 0.63)^2 where Bk is the proportion of blacks by town\n",
      "        - LSTAT    % lower status of the population\n",
      "        - MEDV     Median value of owner-occupied homes in $1000's\n",
      "\n",
      "    :Missing Attribute Values: None\n",
      "\n",
      "    :Creator: Harrison, D. and Rubinfeld, D.L.\n",
      "\n",
      "This is a copy of UCI ML housing dataset.\n",
      "https://archive.ics.uci.edu/ml/machine-learning-databases/housing/\n",
      "\n",
      "\n",
      "This dataset was taken from the StatLib library which is maintained at Carnegie Mellon University.\n",
      "\n",
      "The Boston house-price data of Harrison, D. and Rubinfeld, D.L. 'Hedonic\n",
      "prices and the demand for clean air', J. Environ. Economics & Management,\n",
      "vol.5, 81-102, 1978.   Used in Belsley, Kuh & Welsch, 'Regression diagnostics\n",
      "...', Wiley, 1980.   N.B. Various transformations are used in the table on\n",
      "pages 244-261 of the latter.\n",
      "\n",
      "The Boston house-price data has been used in many machine learning papers that address regression\n",
      "problems.   \n",
      "     \n",
      ".. topic:: References\n",
      "\n",
      "   - Belsley, Kuh & Welsch, 'Regression diagnostics: Identifying Influential Data and Sources of Collinearity', Wiley, 1980. 244-261.\n",
      "   - Quinlan,R. (1993). Combining Instance-Based and Model-Based Learning. In Proceedings on the Tenth International Conference of Machine Learning, 236-243, University of Massachusetts, Amherst. Morgan Kaufmann.\n",
      "\n"
     ]
    }
   ],
   "source": [
    "# Data description\n",
    "print(ds.DESCR)"
   ]
  },
  {
   "cell_type": "code",
   "execution_count": null,
   "metadata": {
    "colab": {
     "base_uri": "https://localhost:8080/",
     "height": 35
    },
    "id": "rR8jIWSafGLR",
    "outputId": "21b93e33-726d-47df-b4e2-a88c2f70bd16"
   },
   "outputs": [
    {
     "data": {
      "text/plain": [
       "False"
      ]
     },
     "execution_count": 51,
     "metadata": {
      "tags": []
     },
     "output_type": "execute_result"
    }
   ],
   "source": [
    "# check to see if there is any null data\n",
    "np.isnan(np.sum(samples))"
   ]
  },
  {
   "cell_type": "code",
   "execution_count": null,
   "metadata": {
    "id": "QMjtimPhfGLT"
   },
   "outputs": [],
   "source": [
    "# set print options to make things look nicer\n",
    "np.set_printoptions(suppress=True, linewidth=125)"
   ]
  },
  {
   "cell_type": "code",
   "execution_count": null,
   "metadata": {
    "colab": {
     "base_uri": "https://localhost:8080/",
     "height": 69
    },
    "id": "hwXoQA_rfGLY",
    "outputId": "a32a7977-0f64-4c14-d010-c6b10f9ef09a"
   },
   "outputs": [
    {
     "name": "stdout",
     "output_type": "stream",
     "text": [
      "\t\tCRIM\tZN\tINDUS\tCHAS\tNOX\tRM\tAGE\tDIS\tRAD\tTAX\tPTRATIO\tB\tLSTAT\n",
      "  median [\t0.3\t0.0\t9.7\t0.0\t0.5\t6.2\t77.5\t3.2\t5.0\t330.0\t19.0\t391.4\t11.4\t]\n",
      "variance [\t73.8\t542.9\t47.0\t0.1\t0.0\t0.5\t790.8\t4.4\t75.7\t28348.6\t4.7\t8318.3\t50.9\t]\n"
     ]
    }
   ],
   "source": [
    "# find median, variance of the data and put it out in nice looking format\n",
    "median = np.round(np.median(samples, axis=0), decimals=1)\n",
    "variance = np.round(np.var(samples, axis=0), decimals=1)\n",
    "basic_stats = np.vstack((median, variance))\n",
    "basic_stats_label = ['  median','variance']\n",
    "print('\\t\\tCRIM\\tZN\\tINDUS\\tCHAS\\tNOX\\tRM\\tAGE\\tDIS\\tRAD\\tTAX\\tPTRATIO\\tB\\tLSTAT')\n",
    "for basic_stats_label, row in zip(basic_stats_label, basic_stats):\n",
    "    print('{} [\\t{}]'.format(basic_stats_label,\"\".join('%s\\t'%i for i in row)))"
   ]
  },
  {
   "cell_type": "markdown",
   "metadata": {
    "id": "VS5mKl2lfGLb"
   },
   "source": [
    "## **Question 2**\n",
    "\n",
    "Use function <code>stats.describe</code> to retrieve the max min and average of samples then display it as in the expected output <br><br>\n",
    "\n",
    "<b>Expected Output:</b> Something that looks like the following or better: <br>\n",
    "<code>\t CRIM\tZN\tINDUS\tCHAS\tNOX\tRM\tAGE\tDIS\tRAD\tTAX\tPTRATIO\tB\tLSTAT\n",
    " min [\t0.0\t0.0\t0.5\t0.0\t0.4\t3.6\t2.9\t1.1\t1.0\t187.0\t12.6\t0.3\t1.7\t]\n",
    " max [\t89.0\t100.0\t27.7\t1.0\t0.9\t8.8\t100.0\t12.1\t24.0\t711.0\t22.0\t396.9\t38.0\t]\n",
    "mean [\t3.6\t11.4\t11.1\t0.1\t0.6\t6.3\t68.6\t3.8\t9.5\t408.2\t18.5\t356.7\t12.7\t]\n",
    "</code>\n",
    "<b>Answer</b>:"
   ]
  },
  {
   "cell_type": "code",
   "execution_count": null,
   "metadata": {
    "id": "OkNtSOsIfGLb"
   },
   "outputs": [],
   "source": [
    "# Your code here. Add more cells if needed\n",
    "\n",
    "\n",
    "n, min_max, mean, var, skew, kurt = stats.describe(samples)\n",
    "basic_stats = np.vstack((min_max[0], min_max[1],mean))\n",
    "basic_stats_label = ['   min','   max','  mean']\n",
    "print('\\t\\tCRIM\\tZN\\tINDUS\\tCHAS\\tNOX\\tRM\\tAGE\\tDIS\\tRAD\\tTAX\\tPTRATIO\\tB\\tLSTAT')\n",
    "for basic_stats_label, row in zip(basic_stats_label, basic_stats):\n",
    "    print('{} [\\t{}]'.format(basic_stats_label,\"\".join('%.1f\\t'%i for i in row)))\n",
    "\n",
    "\n",
    "\n"
   ]
  },
  {
   "cell_type": "markdown",
   "metadata": {
    "id": "l3KaR1wZyRgK"
   },
   "source": [
    "-----------------"
   ]
  },
  {
   "cell_type": "code",
   "execution_count": null,
   "metadata": {
    "colab": {
     "base_uri": "https://localhost:8080/",
     "height": 368
    },
    "id": "FzOg-yJwfGLe",
    "outputId": "ffe8d9e9-2e0a-40dd-c2a8-7c36e01600ad"
   },
   "outputs": [
    {
     "data": {
      "image/png": "[encoded data removed]",
      "text/plain": [
       "<Figure size 432x288 with 1 Axes>"
      ]
     },
     "metadata": {
      "needs_background": "light",
      "tags": []
     },
     "output_type": "display_data"
    },
    {
     "name": "stdout",
     "output_type": "stream",
     "text": [
      "Bin sizes: [329.  26.  14.   9.  13.  12.  11.   9.   8.   9.   9.   6.   5.   4.   3.   7.   4.   4.   1.   1.   3.   1.   1.   1.\n",
      "   1.   1.   1.   3.   1.   0.   0.   1.   0.   0.   0.   0.   0.   0.   0.   0.   0.   1.   1.   0.   0.   0.   1.   0.\n",
      "   0.   0.   1.   0.   0.   0.   0.   0.   1.   0.   0.   0.   0.   0.   0.   0.   0.   0.   0.   0.   0.   0.   0.   0.\n",
      "   0.   0.   0.   1.   0.   0.   0.   0.   0.   1.   0.   0.   0.   0.   0.   0.   0.   0.   0.   0.   0.   0.   0.   0.\n",
      "   0.   0.   1.]\n"
     ]
    }
   ],
   "source": [
    "import matplotlib.pyplot as plt\n",
    "\n",
    "# let plot out to see what is the distribution of crime based on the data\n",
    "n, bins, patches = plt.hist(samples[:,0],bins='auto')\n",
    "plt.title('Distribution of crimes')\n",
    "plt.show()\n",
    "print('Bin sizes: {}'.format(n))"
   ]
  },
  {
   "cell_type": "markdown",
   "metadata": {
    "id": "53VG7TETfGLg"
   },
   "source": [
    "\n",
    "## <b>Question 3</b>\n",
    "\n",
    "Plot out the histogram of another feature of the dataset that you are interested in, give the plot a title and also print out the bin sizes <br><br>\n",
    "<b>Answer</b>"
   ]
  },
  {
   "cell_type": "code",
   "execution_count": null,
   "metadata": {
    "id": "MALZsy3AfGLg"
   },
   "outputs": [],
   "source": [
    "# Your code here, add more cells if necessary\n",
    "\n",
    "\n",
    "# let plot out to see what is the distribution of tax based on the data\n",
    "n, bins, patches = plt.hist(samples[:,9],bins='auto')\n",
    "plt.title('Distribution of taxes')\n",
    "plt.show()\n",
    "print('Bin sizes: {}'.format(n))\n",
    "\n",
    "\n",
    "\n",
    "\n",
    "\n"
   ]
  },
  {
   "cell_type": "markdown",
   "metadata": {
    "id": "cDbu6VbOxzNJ"
   },
   "source": [
    "_________________________________________________________"
   ]
  },
  {
   "cell_type": "code",
   "execution_count": null,
   "metadata": {
    "colab": {
     "base_uri": "https://localhost:8080/",
     "height": 139
    },
    "id": "yTYkJsHgfGLk",
    "outputId": "fcad79aa-0230-4b94-baae-3cbf90fb1c6f"
   },
   "outputs": [
    {
     "data": {
      "text/plain": [
       "array([[  0.00632,  18.     ,   2.31   , ...,  15.3    , 396.9    ,   4.98   ],\n",
       "       [  0.02731,   0.     ,   7.07   , ...,  17.8    , 396.9    ,   9.14   ],\n",
       "       [  0.02729,   0.     ,   7.07   , ...,  17.8    , 392.83   ,   4.03   ],\n",
       "       ...,\n",
       "       [  0.06076,   0.     ,  11.93   , ...,  21.     , 396.9    ,   5.64   ],\n",
       "       [  0.10959,   0.     ,  11.93   , ...,  21.     , 393.45   ,   6.48   ],\n",
       "       [  0.04741,   0.     ,  11.93   , ...,  21.     , 396.9    ,   7.88   ]])"
      ]
     },
     "execution_count": 57,
     "metadata": {
      "tags": []
     },
     "output_type": "execute_result"
    }
   ],
   "source": [
    "def house_with_defined_age(dataset,age):\n",
    "    '''This function will return indices of all house with proportion of owner-occupied units built prior to 1940 greater than age%'''\n",
    "    ids = []\n",
    "    for id, record in enumerate(dataset):\n",
    "        if record[6]>age:\n",
    "            ids.append(id)\n",
    "    return ids\n",
    "\n",
    "    \n",
    "# list out all records with unites built prior to 1940 greater than 50%\n",
    "samples[house_with_defined_age(samples,50)]"
   ]
  },
  {
   "cell_type": "markdown",
   "metadata": {
    "id": "N3zhYgVKfGLm"
   },
   "source": [
    "\n",
    "## **Question 4**\n",
    "\n",
    "Write a function that takes as input the given dataset, and two numbers $a$ and $b$, and returns the ids of houses that tax is either less than $a$ or more than $b$. Demonstrate how the function runs with two specific inputs $a$ and $b$ of your choice. \n",
    "\n"
   ]
  },
  {
   "cell_type": "code",
   "execution_count": null,
   "metadata": {
    "id": "6_0OKNXtfGLn"
   },
   "outputs": [],
   "source": [
    "# your code goes here\n",
    "\n",
    "def house_tax_within_range(tax_amount,a,b):\n",
    "    '''This function will return indices of all house with tax greater than high value or smaller than low value'''\n",
    "    ids = []\n",
    "    for id, amt in enumerate(tax_amount):\n",
    "        if amt > b or amt < a:\n",
    "            ids.append(id)\n",
    "    return ids\n",
    "\n",
    "##\n",
    "samples[house_tax_within_range(samples[:,9],1000,25000)]\n",
    "\n",
    "\n",
    "\n",
    "\n",
    "\n",
    "\n"
   ]
  }
 ],
 "metadata": {
  "colab": {
   "name": "Assignment-1-Solution.ipynb",
   "provenance": []
  },
  "kernelspec": {
   "display_name": "Python 3 (ipykernel)",
   "language": "python",
   "name": "python3"
  },
  "language_info": {
   "codemirror_mode": {
    "name": "ipython",
    "version": 3
   },
   "file_extension": ".py",
   "mimetype": "text/x-python",
   "name": "python",
   "nbconvert_exporter": "python",
   "pygments_lexer": "ipython3",
   "version": "3.8.2"
  }
 },
 "nbformat": 4,
 "nbformat_minor": 1
}
