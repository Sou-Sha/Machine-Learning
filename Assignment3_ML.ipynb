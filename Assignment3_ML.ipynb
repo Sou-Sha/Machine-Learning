{
  "nbformat": 4,
  "nbformat_minor": 0,
  "metadata": {
    "kernelspec": {
      "display_name": "Python 3",
      "language": "python",
      "name": "python3"
    },
    "language_info": {
      "codemirror_mode": {
        "name": "ipython",
        "version": 3
      },
      "file_extension": ".py",
      "mimetype": "text/x-python",
      "name": "python",
      "nbconvert_exporter": "python",
      "pygments_lexer": "ipython3",
      "version": "3.7.6"
    },
    "colab": {
      "name": "Assignment-3-Solution.ipynb",
      "provenance": [],
      "collapsed_sections": []
    }
  },
  "cells": [
    {
      "cell_type": "markdown",
      "metadata": {
        "id": "rgxCDOH1E3Mv"
      },
      "source": [
        "# Assignment 3 Solutions\n",
        "\n",
        "These are indicative solutions, and they may deviate from what we discussed online before Assignment 3. "
      ]
    },
    {
      "cell_type": "markdown",
      "metadata": {
        "id": "HadJjQcvE3Mx"
      },
      "source": [
        "## Preparation Steps"
      ]
    },
    {
      "cell_type": "code",
      "metadata": {
        "id": "7VXej6NEE3My"
      },
      "source": [
        "# Import all necessary python packages\n",
        "import numpy as np\n",
        "import os\n",
        "import pandas as pd\n",
        "import matplotlib.pyplot as plt\n",
        "from matplotlib.colors import ListedColormap\n",
        "from sklearn.linear_model import LogisticRegression"
      ],
      "execution_count": null,
      "outputs": []
    },
    {
      "cell_type": "code",
      "metadata": {
        "id": "kmifa9c-E3M3",
        "outputId": "85b92c22-9a5b-4e44-dc49-63875e6b0112",
        "colab": {
          "base_uri": "https://localhost:8080/",
          "height": 35
        }
      },
      "source": [
        "# ### Reading-in the Iris data\n",
        "\n",
        "s = os.path.join('https://archive.ics.uci.edu', 'ml',\n",
        "                 'machine-learning-databases', 'iris','iris.data')\n",
        "\n",
        "#s = s.replace(\"\\\\\",\"/\");  # step needed when run locally on Windows\n",
        "print('URL:', s)\n",
        "df = pd.read_csv(s,header=None,encoding='utf-8')\n"
      ],
      "execution_count": null,
      "outputs": [
        {
          "output_type": "stream",
          "text": [
            "URL: https://archive.ics.uci.edu/ml/machine-learning-databases/iris/iris.data\n"
          ],
          "name": "stdout"
        }
      ]
    },
    {
      "cell_type": "code",
      "metadata": {
        "id": "6MaEP4tME3M-",
        "outputId": "c4b10d73-e45d-4beb-e28c-dbdc27036a8c",
        "colab": {
          "base_uri": "https://localhost:8080/",
          "height": 279
        }
      },
      "source": [
        "# select setosa and versicolor\n",
        "y = df.iloc[0:100, 4].values\n",
        "y = np.where(y == 'Iris-setosa', -1, 1)\n",
        "\n",
        "# extract sepal length and petal length\n",
        "X = df.iloc[:100, [0, 2]].values\n",
        "\n",
        "# plot data\n",
        "plt.scatter(X[:50, 0], X[:50, 1],\n",
        "            color='red', marker='o', label='setosa')\n",
        "plt.scatter(X[50:100, 0], X[50:100, 1],\n",
        "            color='blue', marker='x', label='versicolor')\n",
        "\n",
        "plt.xlabel('sepal length [cm]')\n",
        "plt.ylabel('petal length [cm]')\n",
        "plt.legend(loc='upper left')\n",
        "\n",
        "# plt.savefig('images/02_06.png', dpi=300)\n",
        "plt.show()"
      ],
      "execution_count": null,
      "outputs": [
        {
          "output_type": "display_data",
          "data": {
            "image/png": "[encoded data removed]",
            "text/plain": [
              "<Figure size 432x288 with 1 Axes>"
            ]
          },
          "metadata": {
            "tags": [],
            "needs_background": "light"
          }
        }
      ]
    },
    {
      "cell_type": "markdown",
      "metadata": {
        "id": "C9Hq-OlWE3NC"
      },
      "source": [
        "## <font color = 'blue'>  Question 1. Exact Adaline Weights </font>\n",
        "\n",
        "In the class we discussed gradient descent for computing the weights of Adaline. It is possible however to use an 'exact' solver: Suppose $\\tilde{X}$ is the data matrix, with shape $n\\times d$, where $d$ is the number of attributes.  Now let's augment $\\tilde{X}$ by adding one extra attribute/column on the left side of $X$ with all entries being equal to 1. Let $X$ be this new matrix (this step reflects that $x_0=1$). Also, let $w$ be the vector of weights (with shape $(d+1)\\times 1$, and $y$ be the vector of labels (with shape $n\\times 1$). It turns out that the optimal weight vector $w$ is given by \n",
        "\n",
        "$$\n",
        "      w = (X^T X)^{-1} X^T y\n",
        "$$\n",
        "\n",
        "(i) Write a Python function *exactAdaline* (using numpy) that takes as input $\\tilde{X}$ and $y$ and returns the optimal. weights $w$, following the above formula <br>\n",
        "(ii) Apply the function on the iris dataset that you imported in an earlier cell. Report the weights calculated by the function. <br>\n",
        "(iii) The total error for a vector $w$ is given by this formula\n",
        "\n",
        "$$  err = || Xw - y||_2^2 $$\n",
        "\n",
        "The subscript of the norm means the 2-norm. Use numpy to do your calculation. \n",
        "\n",
        "\n",
        "<br>\n",
        "<br>\n",
        "<br>\n",
        "<br>\n",
        "\n",
        "\n",
        "*(please insert cells below for your answers)*\n"
      ]
    },
    {
      "cell_type": "markdown",
      "metadata": {
        "id": "VH7IDd-BcGQt"
      },
      "source": [
        "<font color = 'red'>  Note to grader: Some students may have implemented the following function as a 'predict' method in an Adaline classifier. That should be fine. Please check the students' code, for similar functionality to the following code.  </font>"
      ]
    },
    {
      "cell_type": "code",
      "metadata": {
        "id": "xF8nq-BHcHXm"
      },
      "source": [
        ""
      ],
      "execution_count": null,
      "outputs": []
    },
    {
      "cell_type": "code",
      "metadata": {
        "id": "vgA8l49eE3ND"
      },
      "source": [
        "# (i) Q1\n",
        "def exactAdaline(x_tilde, y):\n",
        "    \"\"\"This function takes as input x_tilde and label y and returns the optimal weights w. This replaces the use of gradient descent for computing the weights of Adaline.\n",
        "    Input\n",
        "    -----------\n",
        "    x_tilde : data matrix with shape nxd where d is the number of attributes per sample and n is the number of samples\n",
        "    y : the vector of labels (with shape nx1)\n",
        "    \n",
        "    Output\n",
        "    -----------\n",
        "    X: augmented x_tilde by adding the extra column on the left side of x_tilde\n",
        "    w: data matrix with shape (d+1)x1 - The optimal weight vector for Adaline\n",
        "    \"\"\"\n",
        "    # Augment x_tilde by adding one extra column on the left side of x_tilder with all entries being equal to 1\n",
        "    # This step reflects that x_0 = 1\n",
        "    X = np.column_stack((np.ones(x_tilde.shape[0]),x_tilde))\n",
        "    \n",
        "    # calculate w using np.dot\n",
        "    #w = np.dot(np.dot(np.linalg.inv(np.dot(X.T,X)),X.T),y)\n",
        "    \n",
        "    # calculate w using np.linalg package (producing the same result as using np.dot)\n",
        "    w = np.linalg.multi_dot([np.linalg.inv(np.dot(X.T,X)),X.T,y])\n",
        "    return X, w"
      ],
      "execution_count": null,
      "outputs": []
    },
    {
      "cell_type": "markdown",
      "metadata": {
        "id": "g8qhIzTCcuyt"
      },
      "source": [
        "<font color = 'red'> Note to grader: A correct implementation above, should give the same weights and errors as below. If there are discrepancies, please let me know. If the code is correct 'in spirit' but outputs incorrect results, deduct some points (you can decide how many)"
      ]
    },
    {
      "cell_type": "code",
      "metadata": {
        "id": "7sDKMmqKE3NH",
        "outputId": "ff8e6e46-9551-4287-8ee7-730627acc38b",
        "colab": {
          "base_uri": "https://localhost:8080/",
          "height": 35
        }
      },
      "source": [
        "# (ii) Q1\n",
        "X_, w = exactAdaline(X,y)\n",
        "# weights calculated by the function is\n",
        "w"
      ],
      "execution_count": null,
      "outputs": [
        {
          "output_type": "execute_result",
          "data": {
            "text/plain": [
              "array([-0.70498922, -0.27494856,  0.7719192 ])"
            ]
          },
          "metadata": {
            "tags": []
          },
          "execution_count": 10
        }
      ]
    },
    {
      "cell_type": "code",
      "metadata": {
        "id": "DtcDxhMZE3NL",
        "outputId": "a986802d-7cf8-41c8-9aba-99d6124139f3",
        "colab": {
          "base_uri": "https://localhost:8080/",
          "height": 35
        }
      },
      "source": [
        "# (iii) Q1\n",
        "# Calculate the total error for calculated vector w\n",
        "err = np.linalg.norm(np.dot(X_,w)-y)**2\n",
        "err"
      ],
      "execution_count": null,
      "outputs": [
        {
          "output_type": "execute_result",
          "data": {
            "text/plain": [
              "4.870803095397433"
            ]
          },
          "metadata": {
            "tags": []
          },
          "execution_count": 11
        }
      ]
    },
    {
      "cell_type": "markdown",
      "metadata": {
        "id": "iJsn7hi9dREF"
      },
      "source": [
        "<font color = 'red'> Note to grader: The following few cells give two alternative ways to plot the decision regions. Any answer that gives a plot of the line computed in the previous question should count as correct.  "
      ]
    },
    {
      "cell_type": "markdown",
      "metadata": {
        "id": "3uqjAQMOE3NP"
      },
      "source": [
        "# Some comment regarding plotting the line that separates the data points based on known weights \n",
        "Let's first take a look at an alternate way to draw the line that separate the data points.\n",
        "\n",
        "In the Iris dataset, based on our answer to question 1, part (ii) we have <br><br>\n",
        "$z = w^Tx = w_0 + w_1x_1 + w_2x_2$ where $w_0 = -0.70498922$, $w_1 = -0.27494856$, $w_2 = 0.7719192$ (*) <br><br>\n",
        "When we plot the data in 2-D where the horizontal axis is labeled $x_1$ and the vertical axis is labeled $x_2$, we will calculate the intersection of the separated line on the two axes as followed\n",
        "\n",
        "Give (*) when $z = 0, x_1 = 0$, we have $0 = w_0 + w_1*0 + w_2x_2$ $\\rightarrow$ $x_2 = 0.9132940496035133$ and \n",
        "when $z = 0, x_2 = 0$, $x_1 = -2.564076814341438$"
      ]
    },
    {
      "cell_type": "code",
      "metadata": {
        "id": "zwmArWktE3NQ",
        "outputId": "4ef4d4e6-b21f-404d-c756-d36f17b6a44e",
        "colab": {
          "base_uri": "https://localhost:8080/",
          "height": 52
        }
      },
      "source": [
        "x_1 = -w[0]/w[1]\n",
        "x_2 = -w[0]/w[2]\n",
        "\n",
        "# This line x_2 = ax_1 + b, when x_1 (attribute 1 = 0), we can derive b\n",
        "b = x_2\n",
        "# we then derive a (when x_2 = 0)\n",
        "a = -b/x_1\n",
        "print(a)\n",
        "print(b)"
      ],
      "execution_count": null,
      "outputs": [
        {
          "output_type": "stream",
          "text": [
            "0.35618825633270945\n",
            "0.9132940496037494\n"
          ],
          "name": "stdout"
        }
      ]
    },
    {
      "cell_type": "markdown",
      "metadata": {
        "id": "nQUMEEwrE3NV"
      },
      "source": [
        "We have obtain the line to separate the data points based on the weights once they are known. This line will be drawn against the plot where two axes are the two attributes of the data point. Note that, this does not mean $x_2$ is dependent on $x_1$. The derivation is to draw a line for demonstration purpose only. This is different from the way the book has shown you how to derive such line.\n",
        "$x_2 = ax_1 + b$"
      ]
    },
    {
      "cell_type": "code",
      "metadata": {
        "id": "PQ6qd3PsE3NX",
        "outputId": "fdf77445-04ed-45f5-b031-da8834aa2f31",
        "colab": {
          "base_uri": "https://localhost:8080/",
          "height": 279
        }
      },
      "source": [
        "# select setosa and versicolor\n",
        "y = df.iloc[0:100, 4].values\n",
        "y = np.where(y == 'Iris-setosa', -1, 1)\n",
        "\n",
        "# extract sepal length and petal length\n",
        "X = df.iloc[:100, [0, 2]].values\n",
        "\n",
        "# plot data\n",
        "plt.scatter(X[:50, 0], X[:50, 1],\n",
        "            color='red', marker='o', label='setosa')\n",
        "plt.scatter(X[50:100, 0], X[50:100, 1],\n",
        "            color='blue', marker='x', label='versicolor')\n",
        "\n",
        "plt.xlabel('sepal length [cm]')\n",
        "plt.ylabel('petal length [cm]')\n",
        "plt.legend(loc='upper left')\n",
        "\n",
        "#########################################\n",
        "### here is our line of separation ****\n",
        "### begin\n",
        "x = np.arange(min(X[:100,0]),max(X[:100,0]),0.01)\n",
        "plt.plot(x, a*x+b)\n",
        "### end\n",
        "#########################################\n",
        "\n",
        "# plt.savefig('images/02_06.png', dpi=300)\n",
        "plt.show()"
      ],
      "execution_count": null,
      "outputs": [
        {
          "output_type": "display_data",
          "data": {
            "image/png": "[encoded data removed]",
            "text/plain": [
              "<Figure size 432x288 with 1 Axes>"
            ]
          },
          "metadata": {
            "tags": [],
            "needs_background": "light"
          }
        }
      ]
    },
    {
      "cell_type": "code",
      "metadata": {
        "id": "KSbuW9d8E3Nb"
      },
      "source": [
        "# Alternately, if you like to present the region like the book, you can use the below plot function\n",
        "\n",
        "def plot_decision_regions_adaline(X, y, w_, test_idx=None, resolution=0.02):\n",
        "\n",
        "    # setup marker generator and color map\n",
        "    markers = ('s', 'x', 'o', '^', 'v')\n",
        "    colors = ('red', 'blue', 'lightgreen', 'gray', 'cyan')\n",
        "    cmap = ListedColormap(colors[:len(np.unique(y))])\n",
        "\n",
        "    # plot the decision surface\n",
        "    x1_min, x1_max = X[:, 0].min() - 1, X[:, 0].max() + 1\n",
        "    x2_min, x2_max = X[:, 1].min() - 1, X[:, 1].max() + 1\n",
        "    xx1, xx2 = np.meshgrid(np.arange(x1_min, x1_max, resolution),\n",
        "                           np.arange(x2_min, x2_max, resolution))\n",
        "    \n",
        "    # utilize given weight to derive Adaline classification decision.\n",
        "    net_input = np.dot(np.array([xx1.ravel(), xx2.ravel()]).T, w_[1:]) + w_[0]\n",
        "    Z = np.where(net_input >= 0.0, 1, -1).reshape(xx1.shape)\n",
        "    \n",
        "    plt.contourf(xx1, xx2, Z, alpha=0.3, cmap=cmap)\n",
        "    plt.xlim(xx1.min(), xx1.max())\n",
        "    plt.ylim(xx2.min(), xx2.max())\n",
        "\n",
        "    for idx, cl in enumerate(np.unique(y)):\n",
        "        plt.scatter(x=X[y == cl, 0], \n",
        "                    y=X[y == cl, 1],\n",
        "                    alpha=0.8, \n",
        "                    c=colors[idx],\n",
        "                    marker=markers[idx], \n",
        "                    label=cl, \n",
        "                    edgecolor='black')\n",
        "\n",
        "    # highlight test examples\n",
        "    if test_idx:\n",
        "        # plot all examples\n",
        "        X_test, y_test = X[test_idx, :], y[test_idx]\n",
        "\n",
        "        plt.scatter(X_test[:, 0],\n",
        "                    X_test[:, 1],\n",
        "                    c='',\n",
        "                    edgecolor='black',\n",
        "                    alpha=1.0,\n",
        "                    linewidth=1,\n",
        "                    marker='o',\n",
        "                    s=100, \n",
        "                    label='test set')"
      ],
      "execution_count": null,
      "outputs": []
    },
    {
      "cell_type": "code",
      "metadata": {
        "id": "iQJMzwzDE3Nf",
        "outputId": "d41c4fd9-9fef-4542-cbf1-3282ddc57fcc",
        "colab": {
          "base_uri": "https://localhost:8080/",
          "height": 266
        }
      },
      "source": [
        "# this result should match our line drawing result given the same w\n",
        "plot_decision_regions_adaline(X,y,w)"
      ],
      "execution_count": null,
      "outputs": [
        {
          "output_type": "display_data",
          "data": {
            "image/png": "[encoded data removed]",
            "text/plain": [
              "<Figure size 432x288 with 1 Axes>"
            ]
          },
          "metadata": {
            "tags": [],
            "needs_background": "light"
          }
        }
      ]
    },
    {
      "cell_type": "markdown",
      "metadata": {
        "id": "A5-Brlmaez1T"
      },
      "source": [
        "<font color = 'red'>  This is a verification that gradient descent computes the same solution as the exact solver. This is is not required in the solution. "
      ]
    },
    {
      "cell_type": "markdown",
      "metadata": {
        "id": "AEMFVyH3E3Nj"
      },
      "source": [
        "### Based on the above result. Let's write a function that quickly help us test our investigation/hypotheses for question 2. This is done by plotting the separation line based on the data points given, and the result from exactAdaline"
      ]
    },
    {
      "cell_type": "code",
      "metadata": {
        "id": "aQKKbWFmE3Nk"
      },
      "source": [
        "def quick_test_2d(w, X, y):\n",
        "    \"\"\"This function takes as input a vector weights for some data X up to 100 samples with the first two attributes and draw a line between the data points and see if it works.\n",
        "    Input\n",
        "    -----------\n",
        "    w : data matrix with shape 3x1 - The optimal weight vector for Adaline\n",
        "    X : data matrix with shape nx2 where 2 is the number of attributes per sample and n is the number of samples. The data features/ attributes ploted in 2-D will be linearly separable.\n",
        "    y : the vector of labels (with shape nx1). y should only have 2 classes\n",
        "    \n",
        "    Output\n",
        "    -----------\n",
        "    A 2-D drawing that facilitates our questioning if the weights provided could separate the data successfully. Each of the axis portraits one (out of 2 attributes of the data)\n",
        "\n",
        "    \"\"\"\n",
        "    \n",
        "    # identify the line to separate the data points based on exactAdaline function\n",
        "    x_1_ = -w[0]/w[1]\n",
        "    x_2_ = -w[0]/w[2]\n",
        "    b = x_2_\n",
        "    a = -b/x_1_    \n",
        "    \n",
        "    # gather the two classes regardless of how they are coded\n",
        "    cl = np.unique(y)\n",
        "    # gather data point belonging to class 1\n",
        "    # identify the indices of records that belong to class 1\n",
        "    idx1 = np.where(y == cl[0])\n",
        "    idx2 = np.where(y == cl[1])\n",
        "    # class 1: first attribute  c1_x1 = X[idx1,0], second attribute    c1_x2 = X[idx1,0]\n",
        "    # class 2: first attribute  c2_x1 = X[idx2,0], second attribute    c2_x2 = X[idx2,0]\n",
        "    \n",
        "    plt.scatter(X[idx1,0], X[idx1,1],\n",
        "            color='red', marker='o', label='class labeled '+np.array2string(cl[0]))\n",
        "    plt.scatter(X[idx2,0], X[idx2,1],\n",
        "                color='blue', marker='x', label='class labeled '+np.array2string(cl[1]))\n",
        "\n",
        "    plt.xlabel('attribute 1')\n",
        "    plt.ylabel('attribute 2')\n",
        "    plt.legend(loc='upper left')\n",
        "\n",
        "    ### here is our line of separation\n",
        "    ### begin\n",
        "    x = np.arange(min(X[:,0]),max(X[:,0]),0.01)\n",
        "    plt.plot(x, a*x+b)\n",
        "    ### end\n",
        "\n",
        "    # plt.savefig('images/02_06.png', dpi=300)\n",
        "    plt.show()"
      ],
      "execution_count": null,
      "outputs": []
    },
    {
      "cell_type": "code",
      "metadata": {
        "id": "D9f-4fM3E3Nn",
        "outputId": "8377e0be-0211-46c5-9338-499e4e44cdd2",
        "colab": {
          "base_uri": "https://localhost:8080/",
          "height": 279
        }
      },
      "source": [
        "# test quick_test_2d function using Iris 100 samples\n",
        "y = df.iloc[0:100, 4].values\n",
        "y = np.where(y == 'Iris-setosa', -1, 1)\n",
        "X = df.iloc[:100, [0, 2]].values\n",
        "quick_test_2d(w, X, y)"
      ],
      "execution_count": null,
      "outputs": [
        {
          "output_type": "display_data",
          "data": {
            "image/png": "[encoded data removed]",
            "text/plain": [
              "<Figure size 432x288 with 1 Axes>"
            ]
          },
          "metadata": {
            "tags": [],
            "needs_background": "light"
          }
        }
      ]
    },
    {
      "cell_type": "markdown",
      "metadata": {
        "id": "4EyY3PT5E3Ns"
      },
      "source": [
        "## <font color = 'blue'>  Question 2. Adaline Fail ? </font>\n",
        "\n",
        "Unlike the perceptron, adaline does not guarantee that the output will actually separate 2-label data points that are linearly separable. Construct a 2-dimensional data set (i.e. the data points and their labels), with the properties that: <br> \n",
        "\n",
        "(a) the data set is linearly separable  <br>\n",
        "(b) the optimal adaline solution does not separate the data.  <br>\n",
        "\n",
        "Demonstrate your answer as follows: <br>\n",
        "\n",
        "(i) Plot the data points, as we did above for the iris data set. This will show that your data set is linearly separable. <br>\n",
        "(ii) Calculate the optimal adaline weights using the function *exactAdaline* from question 1. <br>\n",
        "(iii) Find one point in your data set, and show the calculations that prove that it is misclassified by the optimal adaline. \n",
        "\n",
        "\n",
        "\n",
        "<br>\n",
        "<br>\n",
        "<br>\n",
        "<br>\n",
        "\n",
        "\n",
        "*(please insert cells below for your answers)*"
      ]
    },
    {
      "cell_type": "markdown",
      "metadata": {
        "id": "KcNqKZM4fgya"
      },
      "source": [
        "<font color = 'red'> Note to grader: The following cells contain different solutions. Some of them use many points, but the solution can consist of only a few points. The most important things to check in students' solutions is (i) whether the given data set is indeed linearly separable (ii) adaline should not produce a correct linear separation. "
      ]
    },
    {
      "cell_type": "markdown",
      "metadata": {
        "id": "JWmpkFfpE3Nt"
      },
      "source": [
        "<b>Option1</b>\n",
        "The ask is for us to \"fool\" Adaline. By intuition, to confuse such algorithm, we have to create a set of data points so that one class is pretty dense and clump together, and the data points belonging to the other class are being scattered in a much wider area."
      ]
    },
    {
      "cell_type": "code",
      "metadata": {
        "id": "qN8SjVzsE3Nu",
        "outputId": "579a967a-7db3-4066-ef1e-5f796b2b0fb5",
        "colab": {
          "base_uri": "https://localhost:8080/",
          "height": 282
        }
      },
      "source": [
        "# first class\n",
        "cl1_x1_q2 = np.arange(2,3,0.01)\n",
        "cl1_x2_q2 = cl1_x1_q2 + np.random.rand(cl1_x1_q2.shape[0])\n",
        "y1_q2 = np.ones(cl1_x1_q2.shape[0])\n",
        "\n",
        "# second class\n",
        "cl2_x1_q2 = np.arange(2,3,0.01)\n",
        "cl2_x2_q2 = cl2_x1_q2 + np.random.rand(cl2_x1_q2.shape[0])*26 + 5\n",
        "y2_q2 = np.ones(cl2_x1_q2.shape[0])*-1 \n",
        "\n",
        "# generate X\n",
        "X_q2 = np.vstack((np.column_stack((cl1_x1_q2,cl1_x2_q2)),np.column_stack((cl2_x1_q2, cl2_x2_q2))))\n",
        "y_q2 = np.hstack((y1_q2, y2_q2))\n",
        "\n",
        "# apply exactAdaline function, ignoring the first output (using _)\n",
        "# question 2 (ii)\n",
        "_, w_q2 = exactAdaline(X_q2,y_q2)\n",
        "\n",
        "# question 2 (i)\n",
        "quick_test_2d(w_q2, X_q2, y_q2)"
      ],
      "execution_count": null,
      "outputs": [
        {
          "output_type": "display_data",
          "data": {
            "image/png": "[encoded data removed]",
            "text/plain": [
              "<Figure size 432x288 with 1 Axes>"
            ]
          },
          "metadata": {
            "tags": [],
            "needs_background": "light"
          }
        }
      ]
    },
    {
      "cell_type": "markdown",
      "metadata": {
        "id": "XH-_Ndg2E3Nx"
      },
      "source": [
        "<b>Option1.1</b> In addition to how we generate the data in option 1, we can provide Adaline with a very imbalanced data set. Although the classes are linearly separable, we only supply a few for the first class, and many for the second classes. It will sure confuse Adaline"
      ]
    },
    {
      "cell_type": "code",
      "metadata": {
        "id": "GCA3OiXjE3Ny",
        "outputId": "44ea4bd2-fede-4250-cd92-98a7c8047ae2",
        "colab": {
          "base_uri": "https://localhost:8080/",
          "height": 279
        }
      },
      "source": [
        "# first class\n",
        "cl1_x1 = np.arange(2,3,0.2)\n",
        "cl1_x2 = cl1_x1 + np.random.rand(cl1_x1.shape[0])\n",
        "y1 = np.ones(cl1_x1.shape[0])\n",
        "\n",
        "# second class\n",
        "cl2_x1 = np.arange(2,3,0.01)\n",
        "cl2_x2 = cl2_x1 + np.random.rand(cl2_x1.shape[0])*2 + 2\n",
        "y2 = np.ones(cl2_x1.shape[0])*-1 \n",
        "\n",
        "# generate X\n",
        "X_q2_ = np.vstack((np.column_stack((cl1_x1,cl1_x2)),np.column_stack((cl2_x1, cl2_x2))))\n",
        "y_q2_ = np.hstack((y1, y2))\n",
        "\n",
        "# apply exactAdaline function, ignoring the first output (using _)\n",
        "# question 2 (ii)\n",
        "_, w_q2_ = exactAdaline(X_q2_,y_q2_)\n",
        "\n",
        "# question 2 (i)\n",
        "quick_test_2d(w_q2_, X_q2_, y_q2_)"
      ],
      "execution_count": null,
      "outputs": [
        {
          "output_type": "display_data",
          "data": {
            "image/png": "[encoded data removed]",
            "text/plain": [
              "<Figure size 432x288 with 1 Axes>"
            ]
          },
          "metadata": {
            "tags": [],
            "needs_background": "light"
          }
        }
      ]
    },
    {
      "cell_type": "markdown",
      "metadata": {
        "id": "t8Eg5UZ8E3N3"
      },
      "source": [
        "From option 1, since the manufactured data is stable within the first attribute, and spreads based on the 2nd attribute, we will pick the lowest point (of the 2nd attribute) of the  from the above plot and show that it is misclassified using the weights we obtained from exactAdaline"
      ]
    },
    {
      "cell_type": "code",
      "metadata": {
        "id": "c5pYIkOdE3N3",
        "outputId": "f45c680b-2808-4129-eaf8-edffe8daee6e",
        "colab": {
          "base_uri": "https://localhost:8080/",
          "height": 35
        }
      },
      "source": [
        "x_fail_1 = cl2_x1_q2[np.where(cl2_x2_q2 == min(cl2_x2_q2))]\n",
        "x_fail_2 = cl2_x2_q2[np.where(cl2_x2_q2 == min(cl2_x2_q2))]\n",
        "print('Data Point where the classification surely failed in this manufactured set: {}, {}'.format(x_fail_1, x_fail_2))"
      ],
      "execution_count": null,
      "outputs": [
        {
          "output_type": "stream",
          "text": [
            "Data Point where the classification surely failed in this manufactured set: [2.09], [7.28118747]\n"
          ],
          "name": "stdout"
        }
      ]
    },
    {
      "cell_type": "code",
      "metadata": {
        "id": "4bdESs3xE3N7",
        "outputId": "b60dccc1-b650-4b9d-db47-b67b5638f738",
        "colab": {
          "base_uri": "https://localhost:8080/",
          "height": 35
        }
      },
      "source": [
        "#The class of this point is\n",
        "y_fail = y2_q2[np.where(cl2_x2_q2 == min(cl2_x2_q2))]\n",
        "y_fail"
      ],
      "execution_count": null,
      "outputs": [
        {
          "output_type": "execute_result",
          "data": {
            "text/plain": [
              "array([-1.])"
            ]
          },
          "metadata": {
            "tags": []
          },
          "execution_count": 21
        }
      ]
    },
    {
      "cell_type": "code",
      "metadata": {
        "id": "n-q1JgdOE3N_",
        "outputId": "5f65822e-fdb1-4611-a7c8-93d60bf09b6a",
        "colab": {
          "base_uri": "https://localhost:8080/",
          "height": 35
        }
      },
      "source": [
        "phi_z = w_q2[0] + w_q2[1]*x_fail_1 + w_q2[2]*x_fail_2\n",
        "phi_z"
      ],
      "execution_count": null,
      "outputs": [
        {
          "output_type": "execute_result",
          "data": {
            "text/plain": [
              "array([0.3496979])"
            ]
          },
          "metadata": {
            "tags": []
          },
          "execution_count": 22
        }
      ]
    },
    {
      "cell_type": "code",
      "metadata": {
        "id": "aSBXXemdE3OD"
      },
      "source": [
        "# a positive phi(z) will lead Adaline to classify this point as class labeled 1."
      ],
      "execution_count": null,
      "outputs": []
    },
    {
      "cell_type": "markdown",
      "metadata": {
        "id": "FDSQSNrDE3OM"
      },
      "source": [
        "##### Option 2: This option will only look at 3 points (0,1.0000000001) with label 1, and (2,1), and ($10^4$,1) with label -1"
      ]
    },
    {
      "cell_type": "code",
      "metadata": {
        "id": "AS9cj2fnE3ON",
        "outputId": "694ac235-6227-4843-94fe-456f06d12a05",
        "colab": {
          "base_uri": "https://localhost:8080/",
          "height": 307
        }
      },
      "source": [
        "# first class\n",
        "cl1_o2 = np.array([[0,1.0000000001]])\n",
        "y1_o2 = np.array([1.])\n",
        "\n",
        "# second class\n",
        "cl2_o2 = np.array([[2,1],[10**4,1]])\n",
        "y2_o2 = np.array([-1.,-1.])\n",
        "\n",
        "# generate X\n",
        "X_o2 = np.vstack((cl1_o2, cl2_o2))\n",
        "y_o2 = np.hstack((y1_o2, y2_o2))\n",
        "\n",
        "# apply exactAdaline function, ignoring the first output (using _)\n",
        "# question 2 (ii)\n",
        "_, w_q2_o2 = exactAdaline(X_o2,y_o2)\n",
        "\n",
        "# question 2 (i)\n",
        "quick_test_2d(w_q2_o2, X_o2, y_o2)\n",
        "\n",
        "# The class of the failed point is (2,1)\n",
        "phi_z1 = w_q2_o2[0] + w_q2_o2[1]*X_o2[0,0] + w_q2_o2[2]*X_o2[0,1]\n",
        "phi_z2 = w_q2_o2[0] + w_q2_o2[1]*X_o2[1,0] + w_q2_o2[2]*X_o2[1,1]\n",
        "phi_z3 = w_q2_o2[0] + w_q2_o2[1]*X_o2[2,0] + w_q2_o2[2]*X_o2[2,1]\n",
        "print(phi_z1, phi_z2, phi_z3)\n",
        "# As we can see, the 2nd data point (2,1) is misclassified to be 1 where phi_z2 = 0.4997\n",
        "# It is harder to see it in the plot due to the range of attribute 1 is quite large"
      ],
      "execution_count": null,
      "outputs": [
        {
          "output_type": "display_data",
          "data": {
            "image/png": "[encoded data removed]",
            "text/plain": [
              "<Figure size 432x288 with 1 Axes>"
            ]
          },
          "metadata": {
            "tags": [],
            "needs_background": "light"
          }
        },
        {
          "output_type": "stream",
          "text": [
            "-2.2513442672789097e-05 -0.000200082256924361 -1.000411301269196\n"
          ],
          "name": "stdout"
        }
      ]
    },
    {
      "cell_type": "markdown",
      "metadata": {
        "id": "btg5zwUCE3OV"
      },
      "source": [
        "## <font color = 'blue'>  Question 3. Practice with logistic regression\n",
        "\n",
        "Let's first load the textbook's implementation of logistic regression with gradient descent."
      ]
    },
    {
      "cell_type": "code",
      "metadata": {
        "id": "4vlEnTqDE3OV"
      },
      "source": [
        "class LogisticRegressionGD(object):\n",
        "    \"\"\"Logistic Regression Classifier using gradient descent.\n",
        "\n",
        "    Parameters\n",
        "    ------------\n",
        "    eta : float\n",
        "      Learning rate (between 0.0 and 1.0)\n",
        "    n_iter : int\n",
        "      Passes over the training dataset.\n",
        "    random_state : int\n",
        "      Random number generator seed for random weight\n",
        "      initialization.\n",
        "\n",
        "\n",
        "    Attributes\n",
        "    -----------\n",
        "    w_ : 1d-array\n",
        "      Weights after fitting.\n",
        "    cost_ : list\n",
        "      Logistic cost function value in each epoch.\n",
        "\n",
        "    \"\"\"\n",
        "    def __init__(self, eta=0.05, n_iter=100, random_state=1):\n",
        "        self.eta = eta\n",
        "        self.n_iter = n_iter\n",
        "        self.random_state = random_state\n",
        "\n",
        "    def fit(self, X, y):\n",
        "        \"\"\" Fit training data.\n",
        "\n",
        "        Parameters\n",
        "        ----------\n",
        "        X : {array-like}, shape = [n_examples, n_features]\n",
        "          Training vectors, where n_examples is the number of examples and\n",
        "          n_features is the number of features.\n",
        "        y : array-like, shape = [n_examples]\n",
        "          Target values.\n",
        "\n",
        "        Returns\n",
        "        -------\n",
        "        self : object\n",
        "\n",
        "        \"\"\"\n",
        "        rgen = np.random.RandomState(self.random_state)\n",
        "        self.w_ = rgen.normal(loc=0.0, scale=0.01, size=1 + X.shape[1])\n",
        "        self.cost_ = []\n",
        "\n",
        "        for i in range(self.n_iter):\n",
        "            net_input = self.net_input(X)\n",
        "            output = self.activation(net_input)\n",
        "            errors = (y - output)\n",
        "            self.w_[1:] += self.eta * X.T.dot(errors)\n",
        "            self.w_[0] += self.eta * errors.sum()\n",
        "            \n",
        "            # note that we compute the logistic `cost` now\n",
        "            # instead of the sum of squared errors cost\n",
        "            cost = -y.dot(np.log(output)) - ((1 - y).dot(np.log(1 - output)))\n",
        "            self.cost_.append(cost)\n",
        "        return self\n",
        "    \n",
        "    def net_input(self, X):\n",
        "        \"\"\"Calculate net input\"\"\"\n",
        "        return np.dot(X, self.w_[1:]) + self.w_[0]\n",
        "\n",
        "    def activation(self, z):\n",
        "        \"\"\"Compute logistic sigmoid activation\"\"\"\n",
        "        return 1. / (1. + np.exp(-np.clip(z, -250, 250)))\n",
        "\n",
        "    def predict(self, X):\n",
        "        \"\"\"Return class label after unit step\"\"\"\n",
        "        return np.where(self.net_input(X) >= 0.0, 1, 0)\n",
        "        # equivalent to:\n",
        "        # return np.where(self.activation(self.net_input(X)) >= 0.5, 1, 0)"
      ],
      "execution_count": null,
      "outputs": []
    },
    {
      "cell_type": "markdown",
      "metadata": {
        "id": "OQrhmCHtgz3Q"
      },
      "source": [
        "<font color = 'red'> Note to grader: Some students may do Gradient descent. That should use all 2 points and calculate one update at the end. If they do Stochastic gradient descent, then 3 different updates should take place, similar to the previous assignment.  Both GD ans SGD are acceptable answers. \n",
        "\n",
        "Here it important to check that the predicted output is a realy number between 0 and 1, and not a rounded number as in the perceptron case. </font>\n",
        "\n",
        "> Indented block\n",
        "\n"
      ]
    },
    {
      "cell_type": "markdown",
      "metadata": {
        "id": "de-JKfTyE3OZ"
      },
      "source": [
        "Below you can see the first 3 data points of the data set, all labeled as 'setosa'. Let's set the numerical value for 'setosa' to 1. (i.e. y = 1). "
      ]
    },
    {
      "cell_type": "code",
      "metadata": {
        "id": "hrlJgou1E3OZ",
        "outputId": "aa1bf798-fc0c-4ae5-bf87-8b247e0d2de0",
        "colab": {
          "base_uri": "https://localhost:8080/",
          "height": 121
        }
      },
      "source": [
        "print(X[0:3])\n",
        "print(y_sample[0:3])"
      ],
      "execution_count": null,
      "outputs": [
        {
          "output_type": "stream",
          "text": [
            "[[5.1 1.4]\n",
            " [4.9 1.4]\n",
            " [4.7 1.3]]\n",
            "[[1.]\n",
            " [1.]\n",
            " [1.]]\n"
          ],
          "name": "stdout"
        }
      ]
    },
    {
      "cell_type": "markdown",
      "metadata": {
        "id": "M3W1Uuk8E3Od"
      },
      "source": [
        "\n",
        "Suppose the initial weights of the logistic neuron are w0=0.1, w1=-0.2, w2=0.1\n",
        "\n",
        "(i) In the following space, write the weights after processing data points 0,1,2, with $\\eta=0.1$ and show your calculations. (This is similar to the previous assignment, only done now for the logistic neuron) <br>\n",
        "\n"
      ]
    },
    {
      "cell_type": "markdown",
      "metadata": {
        "id": "A21KOiOOE3Oe"
      },
      "source": [
        "<b>Way 1</b> You can treat the three data points as the data set"
      ]
    },
    {
      "cell_type": "code",
      "metadata": {
        "id": "S02sCgZjE3Oe",
        "outputId": "091b20a7-c607-40c9-9ed9-e69a2323ef7f",
        "colab": {
          "base_uri": "https://localhost:8080/",
          "height": 35
        }
      },
      "source": [
        "#set up the stage for the question\n",
        "X_sample = X[0:3]\n",
        "y_sample = np.ones([1,3]).reshape(X_sample.shape[0],1)\n",
        "w = [[0.1], [-0.2], [0.1]]\n",
        "eta = 0.1\n",
        "\n",
        "\n",
        "# calculate net input\n",
        "net_input = np.dot(X[0:3], w[1:])+ w[0]\n",
        "# calculate logistic sigmoid activation\n",
        "output = 1./(1.+np.exp(-np.clip(net_input,-250,250)))\n",
        "errors = (y_sample - output)\n",
        "w[1:]+= eta * X_sample.T.dot(errors)\n",
        "w[0] += eta * errors.sum()\n",
        "\n",
        "# conclusion\n",
        "print('If we only proces the first 3 points, the new weight vector is {}'.format(w))"
      ],
      "execution_count": null,
      "outputs": [
        {
          "output_type": "stream",
          "text": [
            "If we only proces the first 3 points, the new weight vector is [array([0.30330771]), array([0.79651337]), array([0.37792679])]\n"
          ],
          "name": "stdout"
        }
      ]
    },
    {
      "cell_type": "markdown",
      "metadata": {
        "id": "2QEifruYE3Ok"
      },
      "source": [
        "<b>Way 2</b> You can use stochastic gradient descend which will look at one sample at a time"
      ]
    },
    {
      "cell_type": "code",
      "metadata": {
        "id": "VcuBMoSLE3Ol",
        "outputId": "e68cde9b-99d5-4dde-bb0f-a17ad6006156",
        "colab": {
          "base_uri": "https://localhost:8080/",
          "height": 121
        }
      },
      "source": [
        "# way 2\n",
        "w = np.array([0.1, -0.2, 0.1])\n",
        "eta = 0.1\n",
        "for i, record in enumerate(X_sample):\n",
        "    net_input = np.dot(record, w[1:])+ w[0]\n",
        "    \n",
        "    # calculate logistic sigmoid activation\n",
        "    output = 1./(1.+np.exp(-np.clip(net_input,-250,250)))\n",
        "    \n",
        "    errors = y_sample[i] - output\n",
        "    print(errors,  net_input, output)\n",
        "    w[1:]+= eta * X_sample[i].T*errors[0]\n",
        "    w[0] += eta * errors.sum()\n",
        "\n",
        "    # conclusion\n",
        "    print('The new weight vector is {} after processing point {}'.format(w,i))"
      ],
      "execution_count": null,
      "outputs": [
        {
          "output_type": "stream",
          "text": [
            "[0.68568011] -0.78 0.31431988606174616\n",
            "The new weight vector is [0.16856801 0.14969686 0.19599522] after processing point 0\n",
            "[0.23568643] 1.1764759184574194 0.7643135730004393\n",
            "The new weight vector is [0.19213665 0.26518321 0.22899132] after processing point 1\n",
            "[0.14979798] 1.7361864390344461 0.8502020242725015\n",
            "The new weight vector is [0.20711645 0.33558826 0.24846505] after processing point 2\n"
          ],
          "name": "stdout"
        }
      ]
    },
    {
      "cell_type": "markdown",
      "metadata": {
        "id": "IOqIAzcUE3Oo"
      },
      "source": [
        "(ii) Using *LogisticRegressionGD* check if the data set you constructed in Question 2, also force logistic regression to fail. You can experiment with the number of iterations and the learning rate $\\eta$. \n",
        "\n",
        "(iii) (optional) If logistic regression does not fail for your data set, can you construct another (linearly separable) data set which causes it to fail?\n",
        "\n",
        "*(please insert cells below for your answers)*"
      ]
    },
    {
      "cell_type": "markdown",
      "metadata": {
        "id": "1qcRJwUmjWbh"
      },
      "source": [
        "<font color = 'red'> Note to grader: In this question there are two possible cases. It may be that the student's data set from the previous question works OK with logistic regression, or not. A correct demonstration gets full points.\n",
        "Now in the case the data set works OK, then the student should be able to demonstrate another data set for which logistic regression also fails.\n",
        "\n",
        "Also note that the labels for logistic regression must be adjusted to 0 and 1, unlike adaline which is -1 and 1.  </font>"
      ]
    },
    {
      "cell_type": "markdown",
      "metadata": {
        "id": "IO5qABfdjPP0"
      },
      "source": [
        ""
      ]
    },
    {
      "cell_type": "code",
      "metadata": {
        "id": "C7wTrDgdE3Op"
      },
      "source": [
        "from matplotlib.colors import ListedColormap\n",
        "import matplotlib.pyplot as plt\n",
        "\n",
        "\n",
        "def plot_decision_regions_logistic(X, y, classifier, test_idx=None, resolution=0.02):\n",
        "\n",
        "    # setup marker generator and color map\n",
        "    markers = ('s', 'x', 'o', '^', 'v')\n",
        "    colors = ('red', 'blue', 'lightgreen', 'gray', 'cyan')\n",
        "    cmap = ListedColormap(colors[:len(np.unique(y))])\n",
        "\n",
        "    # plot the decision surface\n",
        "    x1_min, x1_max = X[:, 0].min() - 1, X[:, 0].max() + 1\n",
        "    x2_min, x2_max = X[:, 1].min() - 1, X[:, 1].max() + 1\n",
        "    xx1, xx2 = np.meshgrid(np.arange(x1_min, x1_max, resolution),\n",
        "                           np.arange(x2_min, x2_max, resolution))\n",
        "    Z = classifier.predict(np.array([xx1.ravel(), xx2.ravel()]).T)\n",
        "    Z = Z.reshape(xx1.shape)\n",
        "    plt.contourf(xx1, xx2, Z, alpha=0.3, cmap=cmap)\n",
        "    plt.xlim(xx1.min(), xx1.max())\n",
        "    plt.ylim(xx2.min(), xx2.max())\n",
        "\n",
        "    for idx, cl in enumerate(np.unique(y)):\n",
        "        plt.scatter(x=X[y == cl, 0], \n",
        "                    y=X[y == cl, 1],\n",
        "                    alpha=0.8, \n",
        "                    c=colors[idx],\n",
        "                    marker=markers[idx], \n",
        "                    label=cl, \n",
        "                    edgecolor='black')\n",
        "\n",
        "    # highlight test examples\n",
        "    if test_idx:\n",
        "        # plot all examples\n",
        "        X_test, y_test = X[test_idx, :], y[test_idx]\n",
        "\n",
        "        plt.scatter(X_test[:, 0],\n",
        "                    X_test[:, 1],\n",
        "                    c='',\n",
        "                    edgecolor='black',\n",
        "                    alpha=1.0,\n",
        "                    linewidth=1,\n",
        "                    marker='o',\n",
        "                    s=100, \n",
        "                    label='test set')"
      ],
      "execution_count": null,
      "outputs": []
    },
    {
      "cell_type": "code",
      "metadata": {
        "id": "YdQBl4xalj29",
        "outputId": "f1f755de-03e5-4d94-8a8f-08e99c229ef9",
        "colab": {
          "base_uri": "https://localhost:8080/",
          "height": 87
        }
      },
      "source": [
        "# This cell adjusts the labels of our data sets\n",
        "\n",
        "print(np.unique(y_q2))\n",
        "y_q2_new = (y_q2 + 1)/2\n",
        "print(np.unique(y_q2_new))\n",
        "\n",
        "print(np.unique(y_o2))\n",
        "y_o2_new = (y_o2 + 1)/2\n",
        "print(np.unique(y_o2_new))\n",
        "\n",
        "\n",
        "\n",
        "\n"
      ],
      "execution_count": null,
      "outputs": [
        {
          "output_type": "stream",
          "text": [
            "[-1.  1.]\n",
            "[0. 1.]\n",
            "[-1.  1.]\n",
            "[0. 1.]\n"
          ],
          "name": "stdout"
        }
      ]
    },
    {
      "cell_type": "code",
      "metadata": {
        "id": "DufObJ-rE3Or",
        "outputId": "8fd3367f-5d3f-4bff-e9b6-84a89c00a539",
        "colab": {
          "base_uri": "https://localhost:8080/",
          "height": 297
        }
      },
      "source": [
        "# Q3(ii) we will use the data set presented in Option 1\n",
        "lrgd = LogisticRegressionGD(eta=0.0001, n_iter=1000, random_state=1)\n",
        "lrgd.fit(X_q2, y_q2_new)\n",
        "\n",
        "# we can't use quick_test_2d here because it is written specifically for Adaline\n",
        "# we will use the book code to see the result of using logistic regression\n",
        "\n",
        "plot_decision_regions_logistic(X=X_q2, \n",
        "                      y=y_q2,\n",
        "                      classifier=lrgd)\n",
        "\n",
        "plt.xlabel('attribute 1')\n",
        "plt.ylabel('attribute 2')\n",
        "plt.legend(loc='upper left')\n",
        "\n",
        "plt.tight_layout()\n",
        "#plt.savefig('images/03_05.png', dpi=300)\n",
        "plt.show()"
      ],
      "execution_count": null,
      "outputs": [
        {
          "output_type": "display_data",
          "data": {
            "image/png": "[encoded data removed]",
            "text/plain": [
              "<Figure size 432x288 with 1 Axes>"
            ]
          },
          "metadata": {
            "tags": [],
            "needs_background": "light"
          }
        }
      ]
    },
    {
      "cell_type": "markdown",
      "metadata": {
        "id": "HL30xlpuE3O8"
      },
      "source": [
        "### Conclusion: In this case, it looks that logistic regression works. "
      ]
    },
    {
      "cell_type": "code",
      "metadata": {
        "id": "6ZBZPpDnm-Bk",
        "outputId": "51856fda-6de4-446e-faec-1956a5a1ce79",
        "colab": {
          "base_uri": "https://localhost:8080/",
          "height": 297
        }
      },
      "source": [
        "# now let's use the small data set\n",
        "\n",
        "# Q3(ii) we will use the data set presented in Option 1\n",
        "lrgd = LogisticRegressionGD(eta=0.01, n_iter=1000, random_state=1)\n",
        "lrgd.fit(X_o2, y_o2_new)\n",
        "\n",
        "# we can't use quick_test_2d here because it is written specifically for Adaline\n",
        "# we will use the book code to see the result of using logistic regression\n",
        "\n",
        "plot_decision_regions_logistic(X=X_o2, \n",
        "                      y=y_o2,\n",
        "                      classifier=lrgd)\n",
        "\n",
        "plt.xlabel('attribute 1')\n",
        "plt.ylabel('attribute 2')\n",
        "plt.legend(loc='upper left')\n",
        "\n",
        "plt.tight_layout()\n",
        "#plt.savefig('images/03_05.png', dpi=300)\n",
        "plt.show()"
      ],
      "execution_count": null,
      "outputs": [
        {
          "output_type": "display_data",
          "data": {
            "image/png": "[encoded data removed]",
            "text/plain": [
              "<Figure size 432x288 with 1 Axes>"
            ]
          },
          "metadata": {
            "tags": [],
            "needs_background": "light"
          }
        }
      ]
    },
    {
      "cell_type": "markdown",
      "metadata": {
        "id": "VEM66Ce6nTg4"
      },
      "source": [
        "In this case, it appears that the data set is able to confuse logistic regression. "
      ]
    }
  ]
}