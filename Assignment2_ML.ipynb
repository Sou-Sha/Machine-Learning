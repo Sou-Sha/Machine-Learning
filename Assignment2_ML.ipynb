{
  "nbformat": 4,
  "nbformat_minor": 0,
  "metadata": {
    "kernelspec": {
      "display_name": "Python 3",
      "language": "python",
      "name": "python3"
    },
    "language_info": {
      "codemirror_mode": {
        "name": "ipython",
        "version": 3
      },
      "file_extension": ".py",
      "mimetype": "text/x-python",
      "name": "python",
      "nbconvert_exporter": "python",
      "pygments_lexer": "ipython3",
      "version": "3.7.4"
    },
    "colab": {
      "name": "Assignment-2-Solution.ipynb",
      "provenance": []
    }
  },
  "cells": [
    {
      "cell_type": "markdown",
      "metadata": {
        "id": "0EFEd0Xqs5A2"
      },
      "source": [
        "# Assignment 2\n",
        "\n",
        "This assignment walks you through the basics of the perceptron. You will also do some first experiments on a toy data set, and check the effect of hyperparameters. The intended goal of the assignment is to familiarize you further with the Jupyter/Colab environment and help you acquire some tools that we will later use to experiment with 'professional-grade' data sets and algorithms. \n",
        "\n",
        "\n",
        "<b>Note: </b> You must run/evaluate all cells. <b>Order of cell execution is important.<b>"
      ]
    },
    {
      "cell_type": "markdown",
      "metadata": {
        "id": "XFiUns92s5A3"
      },
      "source": [
        "## Preparation Steps"
      ]
    },
    {
      "cell_type": "code",
      "metadata": {
        "id": "7LI03-u2s5A3"
      },
      "source": [
        "# Import all necessary python packages\n",
        "import numpy as np\n",
        "import os\n",
        "import pandas as pd\n",
        "import matplotlib.pyplot as plt\n",
        "from matplotlib.colors import ListedColormap"
      ],
      "execution_count": null,
      "outputs": []
    },
    {
      "cell_type": "code",
      "metadata": {
        "id": "T_yXB--1s5A7",
        "outputId": "197633e0-a0e0-4074-a73e-28444ae4c0a5",
        "colab": {
          "base_uri": "https://localhost:8080/",
          "height": 34
        }
      },
      "source": [
        "# ### Reading-in the Iris data\n",
        "\n",
        "s = os.path.join('https://archive.ics.uci.edu', 'ml',\n",
        "                 'machine-learning-databases', 'iris','iris.data')\n",
        "s = s.replace(\"\\\\\",\"/\");\n",
        "print('URL:', s)\n",
        "df = pd.read_csv(s,header=None,encoding='utf-8')\n"
      ],
      "execution_count": null,
      "outputs": [
        {
          "output_type": "stream",
          "text": [
            "URL: https://archive.ics.uci.edu/ml/machine-learning-databases/iris/iris.data\n"
          ],
          "name": "stdout"
        }
      ]
    },
    {
      "cell_type": "code",
      "metadata": {
        "id": "M27Ih_Jys5A-",
        "outputId": "4dec8e36-e133-4b97-ad50-f428ece9f51d",
        "colab": {
          "base_uri": "https://localhost:8080/",
          "height": 279
        }
      },
      "source": [
        "# select setosa and versicolor\n",
        "y = df.iloc[0:100, 4].values\n",
        "y = np.where(y == 'Iris-setosa', -1, 1)\n",
        "\n",
        "# extract sepal length and petal length\n",
        "X = df.iloc[:100, [0, 2]].values\n",
        "\n",
        "# plot data\n",
        "plt.scatter(X[:50, 0], X[:50, 1],\n",
        "            color='red', marker='o', label='setosa')\n",
        "plt.scatter(X[50:100, 0], X[50:100, 1],\n",
        "            color='blue', marker='x', label='versicolor')\n",
        "\n",
        "plt.xlabel('sepal length [cm]')\n",
        "plt.ylabel('petal length [cm]')\n",
        "plt.legend(loc='upper left')\n",
        "\n",
        "\n",
        "# plt.savefig('images/02_06.png', dpi=300)\n",
        "plt.show()"
      ],
      "execution_count": null,
      "outputs": [
        {
          "output_type": "display_data",
          "data": {
            "image/png": "[encoded data removed]",
            "text/plain": [
              "<Figure size 432x288 with 1 Axes>"
            ]
          },
          "metadata": {
            "tags": [],
            "needs_background": "light"
          }
        }
      ]
    },
    {
      "cell_type": "markdown",
      "metadata": {
        "id": "nu16p_t8s5BA"
      },
      "source": [
        "## <font color = 'blue'>  Question 0. Manual Perceptron Training \n",
        "</font>\n",
        "\n",
        "\n",
        "max score: 4 <br>\n",
        "\n",
        "Notes to grader: <br>\n",
        "No coding is required as long as the result and steps taken are as follows. Coding answer is okay as well. "
      ]
    },
    {
      "cell_type": "markdown",
      "metadata": {
        "id": "BDyWFxPjs5BB"
      },
      "source": [
        "Below you can see the first 5 data points of the data set, all labeled as 'setosa'. "
      ]
    },
    {
      "cell_type": "code",
      "metadata": {
        "id": "tEFG3hqRs5BB",
        "outputId": "b2cd5a4f-e4e0-404c-e750-015e8e98b657"
      },
      "source": [
        "X[0:5], y[0:5]"
      ],
      "execution_count": null,
      "outputs": [
        {
          "output_type": "execute_result",
          "data": {
            "text/plain": [
              "(array([[5.1, 1.4],\n",
              "        [4.9, 1.4],\n",
              "        [4.7, 1.3],\n",
              "        [4.6, 1.5],\n",
              "        [5. , 1.4]]), array([-1, -1, -1, -1, -1]))"
            ]
          },
          "metadata": {
            "tags": []
          },
          "execution_count": 5
        }
      ]
    },
    {
      "cell_type": "markdown",
      "metadata": {
        "id": "b_8xfoZEs5BE"
      },
      "source": [
        "Suppose the initial weights of the perceptron are w0=0.1, w1=0.2, w2=-0.1\n",
        "\n",
        "In the following space (Double click this text), write the weights after processing data points 0,1,2, and show your calculations (with $\\eta = 0.1$):\n",
        "\n",
        " \n",
        "\n",
        "\n",
        "\n",
        "<br>\n",
        "<br>\n",
        "<br><br><br><br>\n",
        "\n",
        "\n",
        "\n",
        "\n",
        "\n",
        "\n",
        "\n",
        "\n",
        "\n",
        "\n"
      ]
    },
    {
      "cell_type": "markdown",
      "metadata": {
        "id": "qYy3lJnLQvUR"
      },
      "source": [
        "### "
      ]
    },
    {
      "cell_type": "code",
      "metadata": {
        "id": "X4GiuSZeQvUS"
      },
      "source": [
        "# List out what we know\n",
        "eta = 0.1 # learning rate\n",
        "w = np.array([0.1,0.2,-0.1]) # w0=0.1, w1=-0.2, w2=0.1\n",
        "y_label = -np.ones(5) # force y label to be all 1 as the instruction in the addendum"
      ],
      "execution_count": null,
      "outputs": []
    },
    {
      "cell_type": "markdown",
      "metadata": {
        "id": "vhN_aa8EQvUV"
      },
      "source": [
        "$update = \\eta * (y - \\hat{y})$ where $y$ is the expected label and $\\hat{y}$ is what the neuron has predicted"
      ]
    },
    {
      "cell_type": "code",
      "metadata": {
        "id": "elmD3XeKQvUV",
        "outputId": "52fd544e-fe0f-4c06-ca2d-84b55809d9b5",
        "colab": {
          "base_uri": "https://localhost:8080/",
          "height": 34
        }
      },
      "source": [
        "# obtain y hat for the first data point\n",
        "dp = 0\n",
        "x_1 = X[dp][0]\n",
        "x_2 = X[dp][1]\n",
        "\n",
        "y_net_input = w[0] + w[1]*x_1 + w[2]*x_2\n",
        "y_hat = np.where(y_net_input>=0.0,1,-1)\n",
        "\n",
        "#Update the weight for the first data point\n",
        "update = eta * (y_label[dp] - y_hat)\n",
        "w[0] += update\n",
        "w[1] += update * x_1\n",
        "w[2] += update * x_2\n",
        "w"
      ],
      "execution_count": null,
      "outputs": [
        {
          "output_type": "execute_result",
          "data": {
            "text/plain": [
              "array([-0.1 , -0.82, -0.38])"
            ]
          },
          "metadata": {
            "tags": []
          },
          "execution_count": 16
        }
      ]
    },
    {
      "cell_type": "code",
      "metadata": {
        "id": "szz48YKSQvUd",
        "outputId": "f730e14f-63f0-4b0c-ea0c-228ccfb7434a",
        "colab": {
          "base_uri": "https://localhost:8080/",
          "height": 34
        }
      },
      "source": [
        "# obtain y hat for the 2nd data point\n",
        "dp = 1\n",
        "x_1 = X[dp][0]\n",
        "x_2 = X[dp][1]\n",
        "\n",
        "y_net_input = w[0] + w[1]*x_1 + w[2]*x_2\n",
        "y_hat = np.where(y_net_input>=0.0,1,-1)\n",
        "\n",
        "#Update the weight for the first data point\n",
        "update = eta * (y_label[dp] - y_hat)\n",
        "w[0] += update\n",
        "w[1] += update * x_1\n",
        "w[2] += update * x_2\n",
        "w"
      ],
      "execution_count": null,
      "outputs": [
        {
          "output_type": "execute_result",
          "data": {
            "text/plain": [
              "array([-0.1 , -0.82, -0.38])"
            ]
          },
          "metadata": {
            "tags": []
          },
          "execution_count": 11
        }
      ]
    },
    {
      "cell_type": "code",
      "metadata": {
        "id": "aiOlnXxbQvUk",
        "outputId": "c53dfbb4-5998-42e9-a80d-89c2fb9cefaf",
        "colab": {
          "base_uri": "https://localhost:8080/",
          "height": 34
        }
      },
      "source": [
        "# obtain y hat for the 3rd data point\n",
        "dp = 2\n",
        "x_1 = X[dp][0]\n",
        "x_2 = X[dp][1]\n",
        "\n",
        "y_net_input = w[0] + w[1]*x_1 + w[2]*x_2\n",
        "y_hat = np.where(y_net_input>=0.0,1,-1)\n",
        "\n",
        "#Update the weight for the first data point\n",
        "update = eta * (y_label[dp] - y_hat)\n",
        "w[0] += update\n",
        "w[1] += update * x_1\n",
        "w[2] += update * x_2\n",
        "w"
      ],
      "execution_count": null,
      "outputs": [
        {
          "output_type": "execute_result",
          "data": {
            "text/plain": [
              "array([-0.1 , -0.82, -0.38])"
            ]
          },
          "metadata": {
            "tags": []
          },
          "execution_count": 17
        }
      ]
    },
    {
      "cell_type": "markdown",
      "metadata": {
        "id": "6HerYXf_QvUw"
      },
      "source": [
        "## <font color = 'blue'> Question 1. Perceptron Code Modification </font>\n",
        "\n",
        "max score: 12\n",
        "\n",
        "Note to grader: In (i) you should see some simple logic that check if no errors was found in the last epech, and exit in that case. Part (ii) should be a simple additional attribute. Part (iii) is optional. It is a bit trickier, it requires a 'deepcopy' to work. \n"
      ]
    },
    {
      "cell_type": "markdown",
      "metadata": {
        "id": "lGx5VMEWQvUw"
      },
      "source": [
        "The following code is the perceptron implementation from the textbook (with only three lines inserted)."
      ]
    },
    {
      "cell_type": "code",
      "metadata": {
        "id": "SB0Af7N_QvUx"
      },
      "source": [
        "import numpy as np\n",
        "import copy\n",
        "\n",
        "class Perceptron(object):\n",
        "    \"\"\"Perceptron classifier.\n",
        "\n",
        "    Parameters\n",
        "    ------------\n",
        "    eta : float\n",
        "      Learning rate (between 0.0 and 1.0)\n",
        "    n_iter : int\n",
        "      Passes over the training dataset.\n",
        "    random_state : int\n",
        "      Random number generator seed for random weight\n",
        "      initialization.\n",
        "\n",
        "    Attributes\n",
        "    -----------\n",
        "    w_ : 1d-array\n",
        "      Weights after fitting.\n",
        "    errors_ : list\n",
        "      Number of misclassifications (updates) in each epoch.\n",
        "\n",
        "    \"\"\"\n",
        "    ## grader note: the following solution uses an additional init_weight attribute\n",
        "    ## this is optional\n",
        "\n",
        "    def __init__(self, eta=0.01, n_iter=50, random_state=1, init_weight=[]):\n",
        "        self.eta = eta\n",
        "        self.n_iter = n_iter\n",
        "        self.random_state = random_state\n",
        "\n",
        "        # to force some preset init weight vector\n",
        "        self.init_weight = init_weight\n",
        "\n",
        "     \n",
        "        # the number of iterations required to converge \n",
        "        # it will take the default value = -1\n",
        "        # grader note: something similar is needed in the solution\n",
        "        self.iter_trained = -1\n",
        "        \n",
        "\n",
        "\n",
        "    def fit(self, X, y):\n",
        "        \"\"\"Fit training data.\n",
        "\n",
        "        Parameters\n",
        "        ----------\n",
        "        X : {array-like}, shape = [n_examples, n_features]\n",
        "          Training vectors, where n_examples is the number of examples and\n",
        "          n_features is the number of features.\n",
        "        y : array-like, shape = [n_examples]\n",
        "          Target values.\n",
        "\n",
        "        Returns\n",
        "        -------\n",
        "        self : object\n",
        "\n",
        "        \"\"\"\n",
        "        if len(self.init_weight)>0:\n",
        "            self.w_ = self.init_weight\n",
        "        else:\n",
        "            rgen = np.random.RandomState(self.random_state)\n",
        "            self.w_ = rgen.normal(loc=0.0, scale=0.01, size=1 + X.shape[1])\n",
        "        self.errors_ = []\n",
        "\n",
        "        # **** (iii)  solution here\n",
        "        # weight vector over time. A dictionary that will have the key to be the iteration number and the value to be the list of weights after processing each data point\n",
        "        self.wo_ = {} \n",
        "        \n",
        "        for i in range(self.n_iter):\n",
        "            errors = 0\n",
        "            # initiate the list of weight over each data point\n",
        "            self.wo_[i] = []\n",
        "\n",
        "            for xi, target in zip(X, y):\n",
        "                update = self.eta * (target - self.predict(xi))\n",
        "                self.w_[1:] += update * xi\n",
        "                self.w_[0] += update\n",
        "\n",
        "                # **** check this: deep copy is required\n",
        "                # use deep copy to ensure variable is saved by value for historical weight\n",
        "                self.wo_[i].append(copy.deepcopy(self.w_))\n",
        "                errors += int(update != 0.0)\n",
        "            self.errors_.append(errors)\n",
        "            \n",
        "            # **** (i) solution here\n",
        "            # check to see if during the epoch, if there is any weight change/error.\n",
        "            # if there is no error, we can break out of the loop since no\n",
        "            # futher training iteration is necessary\n",
        "            if errors == 0:\n",
        "                # (ii) number of iterations for complete training\n",
        "                # add 1 because python index start from 0\n",
        "                self.iter_trained = i + 1\n",
        "                break # end early\n",
        "            \n",
        "        return self\n",
        "\n",
        "    def net_input(self, X):\n",
        "        \"\"\"Calculate net input\"\"\"\n",
        "        return np.dot(X, self.w_[1:]) + self.w_[0]\n",
        "\n",
        "    def predict(self, X):\n",
        "        \"\"\"Return class label after unit step\"\"\"\n",
        "        return np.where(self.net_input(X) >= 0.0, 1, -1)"
      ],
      "execution_count": null,
      "outputs": []
    },
    {
      "cell_type": "markdown",
      "metadata": {
        "id": "-5ovHZvaQvU4"
      },
      "source": [
        " \n",
        "Work on the above cell and modify the code so that:\n",
        "\n",
        "(i) The fit function stops when no more iterations are necessary. <br>\n",
        "(ii) The trained perceptron contains not only its weights, but also the number of iterations it took for training <br>\n",
        "(iii) The perceptron maintains a history of its weights, i.e. the set of weights after each point is processed (**optional** -- but you can use this to verify your manual calculations) \n",
        "\n",
        "To modify the code please insert your code with clear comments surrounding it, similarly to \"my do-nothing code\". Make sure you evaluate the cell again,  so that following cells will be using the modified perceptron.\n",
        "\n"
      ]
    },
    {
      "cell_type": "code",
      "metadata": {
        "id": "Iq_E2u3LQvUz",
        "outputId": "0c7ca608-3347-4b09-aa66-37d48234cd4d",
        "colab": {
          "base_uri": "https://localhost:8080/",
          "height": 34
        }
      },
      "source": [
        "# optional: Verify manual calculations\n",
        "# set the parameters to match question\n",
        "test = Perceptron(eta = 0.1, init_weight=[0.1,0.2,-0.1])\n",
        "test.fit(X[0:5],y_label)"
      ],
      "execution_count": null,
      "outputs": [
        {
          "output_type": "execute_result",
          "data": {
            "text/plain": [
              "<__main__.Perceptron at 0x7f79ca1f4cc0>"
            ]
          },
          "metadata": {
            "tags": []
          },
          "execution_count": 25
        }
      ]
    },
    {
      "cell_type": "code",
      "metadata": {
        "id": "7zd-sDZ9QvU2",
        "outputId": "0cdc2b39-1017-4c9c-c4bb-a703981d9d5c",
        "colab": {
          "base_uri": "https://localhost:8080/",
          "height": 102
        }
      },
      "source": [
        "test.wo_[0][0:5]\n",
        "# Results work in the same way when we do it manually"
      ],
      "execution_count": null,
      "outputs": [
        {
          "output_type": "execute_result",
          "data": {
            "text/plain": [
              "[[-0.1, -0.8200000000000001, -0.38],\n",
              " [-0.1, -0.8200000000000001, -0.38],\n",
              " [-0.1, -0.8200000000000001, -0.38],\n",
              " [-0.1, -0.8200000000000001, -0.38],\n",
              " [-0.1, -0.8200000000000001, -0.38]]"
            ]
          },
          "metadata": {
            "tags": []
          },
          "execution_count": 26
        }
      ]
    },
    {
      "cell_type": "markdown",
      "metadata": {
        "id": "FE-HlQjrs5BH"
      },
      "source": [
        "## <font color = 'blue'>  Question 2: Experimenting with hyperparameters </font>\n",
        "\n",
        "max score: 12\n",
        "\n",
        "Grader Note:\n",
        "In part (i), the fastest way to find that value is by doing binary search (4 points) as the solution shows. It is also possible to do a linear search where many possible values are tried by small increments (3.5 points). \n",
        "\n"
      ]
    },
    {
      "cell_type": "code",
      "metadata": {
        "id": "_1LFHklis5BI",
        "outputId": "fa3b4cc4-bca8-43f3-b284-3138e26fa221"
      },
      "source": [
        "\n",
        "ppn = Perceptron(eta=0.0001, n_iter=20, random_state=1)\n",
        "\n",
        "ppn.fit(X, y)\n",
        "\n",
        "plt.plot(range(1, len(ppn.errors_) + 1), ppn.errors_, marker='o')\n",
        "plt.xlabel('Epochs')\n",
        "plt.ylabel('Number of updates')\n",
        "\n",
        "\n",
        "plt.show()\n",
        "\n",
        "\n",
        "\n",
        "\n",
        "\n"
      ],
      "execution_count": null,
      "outputs": [
        {
          "output_type": "display_data",
          "data": {
            "image/png": "[encoded data removed]",
            "text/plain": [
              "<Figure size 432x288 with 1 Axes>"
            ]
          },
          "metadata": {
            "tags": [],
            "needs_background": "light"
          }
        }
      ]
    },
    {
      "cell_type": "markdown",
      "metadata": {
        "id": "TPJ-seyas5BL"
      },
      "source": [
        "Running the above code, you can verify if your modification in question 1 works correctly. The point of this question is to experiment with the different hyperparameters. Here are some specific questions:<br>\n",
        "(i) Find the largest value of $\\eta$ for which the process takes more than 20 iterations to converge. Explain how you found that $\\eta$ <br>\n",
        "(ii) Are you able to find $\\eta>1$ for which the process fails to converge in less than 30 iterations? <br>\n",
        "(iii) Find two different settings for the random state, that give different convergence patterns, for the same $\\eta$. \n",
        "\n",
        "Please give your answers in the cell below. "
      ]
    },
    {
      "cell_type": "markdown",
      "metadata": {
        "id": "VaV2vDTzs5BL"
      },
      "source": [
        "<br>Double click here to type your answer\n",
        "<br>\n",
        "<br>\n",
        "<br>\n",
        "<br>"
      ]
    },
    {
      "cell_type": "code",
      "metadata": {
        "id": "M603eVoVQvVB",
        "outputId": "4f7c409d-9d9c-4c6a-f56f-3c300d9f1f14",
        "colab": {
          "base_uri": "https://localhost:8080/",
          "height": 34
        }
      },
      "source": [
        "# (i) intuition: the smaller the eta, the more slowly the perceptron will learn. \n",
        "# We see that eta = 0.0001, it takes 16 epochs (i.e. iterations) to learn\n",
        "# in addition, we try out eta = 0.00001, it takes 40 epochs to learn\n",
        "ppn = Perceptron(eta=0.00001, n_iter=200, random_state=1)\n",
        "\n",
        "ppn.fit(X, y)\n",
        "ppn.iter_trained"
      ],
      "execution_count": null,
      "outputs": [
        {
          "output_type": "execute_result",
          "data": {
            "text/plain": [
              "40"
            ]
          },
          "metadata": {
            "tags": []
          },
          "execution_count": 27
        }
      ]
    },
    {
      "cell_type": "code",
      "metadata": {
        "id": "WCsvunTxQvVF",
        "outputId": "9780794e-8079-49b1-a2a0-15c0e38aa0e3",
        "colab": {
          "base_uri": "https://localhost:8080/",
          "height": 34
        }
      },
      "source": [
        "\n",
        "# based on the above intuition and observation, we will use binary search to search for the eta that will produce ppn.iter_trained = 20\n",
        "# eta producing high number of iterations to converge (40)\n",
        "eta_low = 0.00001\n",
        "# eta producing low nmber of iterations to converge (16)\n",
        "eta_high = 0.0001\n",
        "# find the middle value of eta_high and eta_low\n",
        "mid = (eta_high + eta_low)/2 \n",
        "# try out eta = mid to see how many epochs to learn successfully\n",
        "ppn = Perceptron(eta=mid, n_iter=200, random_state=1)\n",
        "\n",
        "ppn.fit(X, y)\n",
        "print('The number of iterations required for eta mid = {:.6f} is {}'.format(mid,ppn.iter_trained))\n",
        "\n",
        "# we see that the total number of epochs is 19, which means we need to decrease our learning rate a little less\n",
        "# so that the perceptron will learn more slowly. "
      ],
      "execution_count": null,
      "outputs": [
        {
          "output_type": "stream",
          "text": [
            "The number of iterations required for eta mid = 0.000055 is 19\n"
          ],
          "name": "stdout"
        }
      ]
    },
    {
      "cell_type": "code",
      "metadata": {
        "id": "mdZoXQvkQvVI",
        "outputId": "7698d432-8c04-4191-ee6c-d1aa387fdaa6",
        "colab": {
          "base_uri": "https://localhost:8080/",
          "height": 34
        }
      },
      "source": [
        "# the current eta_high that needs 16 iterations\n",
        "# the new eta_low needs 22 iterations\n",
        "eta_high = mid\n",
        "# find the middle value of eta_high and eta_low\n",
        "mid = (eta_high + eta_low)/2\n",
        "# try out eta = mid to see how many epochs to learn successfully\n",
        "ppn = Perceptron(eta=mid, n_iter=200, random_state=1)\n",
        "\n",
        "ppn.fit(X, y)\n",
        "ppn.iter_trained\n",
        "print('The number of iterations required for eta mid = {:.6f} is {}'.format(mid,ppn.iter_trained))\n",
        "# we see that the total number of epochs is 23, which means we need to increase our learning rate a little more.\n",
        "# so that it will learn faster. "
      ],
      "execution_count": null,
      "outputs": [
        {
          "output_type": "stream",
          "text": [
            "The number of iterations required for eta mid = 0.000033 is 23\n"
          ],
          "name": "stdout"
        }
      ]
    },
    {
      "cell_type": "code",
      "metadata": {
        "id": "P7_MSclnQvVK",
        "outputId": "43e75242-7802-44a6-a46b-5db5fb46553d",
        "colab": {
          "base_uri": "https://localhost:8080/",
          "height": 34
        }
      },
      "source": [
        "eta_low = mid\n",
        "# find the middle value of eta_high and eta_low\n",
        "mid = (eta_high + eta_low)/2\n",
        "# try out eta = mid to see how many epochs to learn successfully\n",
        "ppn = Perceptron(eta=mid, n_iter=2000, random_state=1)\n",
        "\n",
        "ppn.fit(X, y)\n",
        "ppn.iter_trained\n",
        "print('The number of iterations required for eta mid = {:.6f} is {}'.format(mid,ppn.iter_trained))\n",
        "# we see that the total number of epochs is 25, which means we need to increase our learning rate a little more.\n",
        "# so that it will learn faster. "
      ],
      "execution_count": null,
      "outputs": [
        {
          "output_type": "stream",
          "text": [
            "The number of iterations required for eta mid = 0.000044 is 21\n"
          ],
          "name": "stdout"
        }
      ]
    },
    {
      "cell_type": "code",
      "metadata": {
        "id": "74ctlUQTQvVP",
        "outputId": "bb262e66-c469-441e-b426-ee9c0a1d6ce8",
        "colab": {
          "base_uri": "https://localhost:8080/",
          "height": 34
        }
      },
      "source": [
        "# The same reasoning is used until we find the right eta.\n",
        "# We put everything together into a loop till answer is found\n",
        "\n",
        "def best_eta(iter_target, samples_with_features, lables, eta_high=0.01, eta_low = 0.00001, n_iter=2000):\n",
        "    ''' This function will print out the eta requires for the data to converage in a iter_target iterations. \n",
        "        Input iter_target, samples_with_features, labels are required'''\n",
        "    mid = (eta_high + eta_low)/2\n",
        "    # try out eta = mid to see how many epochs to learn successfully\n",
        "    ppn = Perceptron(eta=mid, n_iter=2000, random_state=1)\n",
        "    # fit the data to find the best weight vector\n",
        "    ppn.fit(X, y)\n",
        "    # stop searching if the number of iterations = desirable number\n",
        "    # else call best_eta again with update set of eta_high, eta_low\n",
        "    if ppn.iter_trained == iter_target:\n",
        "        print('The answer is learning rate eta = {:.6f}'.format(mid))\n",
        "    elif ppn.iter_trained > iter_target: # learning too slowly, make it a little faster\n",
        "        best_eta(iter_target=iter_target, samples_with_features=X, lables = y, eta_low = mid)\n",
        "    else:\n",
        "        best_eta(iter_target=iter_target, samples_with_features=X, lables = y, eta_high=mid)\n",
        "\n",
        "        \n",
        "best_eta(iter_target=20, samples_with_features=X, lables = y)"
      ],
      "execution_count": null,
      "outputs": [
        {
          "output_type": "stream",
          "text": [
            "The answer is learning rate eta = 0.000049\n"
          ],
          "name": "stdout"
        }
      ]
    },
    {
      "cell_type": "code",
      "metadata": {
        "id": "NtuPKJLuQvVS",
        "outputId": "59a82239-2498-4f9c-e09c-00e19122c0b4",
        "colab": {
          "base_uri": "https://localhost:8080/",
          "height": 34
        }
      },
      "source": [
        "# (ii)  In this case, even big eta won't cause a failure of the perceptron, whcih seems to always learn in 6 steps\n",
        "\n",
        "\n",
        "ppn = Perceptron(eta=100, n_iter=2000, random_state=1)\n",
        "# fit the data to find the best weight vector\n",
        "ppn.fit(X, y)\n",
        "# stop searching if the number of iterations = desirable number\n",
        "# else call best_eta again with update set of eta_high, eta_low\n",
        "ppn.iter_trained"
      ],
      "execution_count": null,
      "outputs": [
        {
          "output_type": "execute_result",
          "data": {
            "text/plain": [
              "6"
            ]
          },
          "metadata": {
            "tags": []
          },
          "execution_count": 36
        }
      ]
    },
    {
      "cell_type": "code",
      "metadata": {
        "id": "7EIscp8OQvVU"
      },
      "source": [
        "# here is some extra code to verify that (this is optional)\n",
        "# allowing eta to increase 2 times till reaching 1 billion\n",
        "# observe if we can find eta\n",
        "eta = 1\n",
        "iter_trained_of_previous = 6\n",
        "temp_conclusion = 'stay the same'\n",
        "while (eta <10*9):\n",
        "    eta *= 2\n",
        "    ppn = Perceptron(eta=eta, n_iter=200, random_state=1)\n",
        "    # fit the data to find the best weight vector\n",
        "    ppn.fit(X, y)\n",
        "    \n",
        "    # check if the change in eta changes the number of iterations required\n",
        "    if iter_trained_of_previous < ppn.iter_trained:\n",
        "        temp = 'less number of iterations'\n",
        "    elif iter_trained_of_previous > ppn.iter_trained:\n",
        "        temp = 'more number of iterations'\n",
        "    else:\n",
        "        temp = 'stay the same'\n",
        "        \n",
        "    if temp != temp_conclusion:\n",
        "        print(temp)\n",
        "        temp_conclusion = temp\n",
        "        \n",
        "    # stop searching if the number of iterations = desirable number\n",
        "    # else call best_eta again with update set of eta_high, eta_low\n",
        "    if ppn.iter_trained >= 30:\n",
        "        print(eta)\n",
        "        break"
      ],
      "execution_count": null,
      "outputs": []
    },
    {
      "cell_type": "code",
      "metadata": {
        "id": "jC2gvoVuQvVW"
      },
      "source": [
        "# The above code shows that the learning rate always converges in less than 30 iterations\n"
      ],
      "execution_count": null,
      "outputs": []
    },
    {
      "cell_type": "code",
      "metadata": {
        "id": "MIJzartjQvVZ",
        "outputId": "950e7b3f-98ec-4ab2-e03a-e93e12afcc45",
        "colab": {
          "base_uri": "https://localhost:8080/",
          "height": 51
        }
      },
      "source": [
        "# (iii) \n",
        "# establish same eta\n",
        "eta = 0.0001\n",
        "ppn1 = Perceptron(eta=eta, n_iter=2000, random_state=1)\n",
        "ppn1.fit(X,y)\n",
        "ppn2 = Perceptron(eta=eta, n_iter=2000, random_state=2)\n",
        "ppn2.fit(X,y)\n",
        "print('{} vs. {}'.format(ppn1.errors_,ppn2.errors_))\n",
        "print(np.array_equal(ppn1.errors_, ppn2.errors_))"
      ],
      "execution_count": null,
      "outputs": [
        {
          "output_type": "stream",
          "text": [
            "[4, 5, 5, 5, 4, 2, 3, 2, 3, 2, 3, 3, 2, 3, 1, 0] vs. [10, 15, 12, 8, 8, 7, 6, 5, 4, 4, 3, 3, 2, 3, 2, 1, 0]\n",
            "False\n"
          ],
          "name": "stdout"
        }
      ]
    },
    {
      "cell_type": "markdown",
      "metadata": {
        "id": "gmq48m4Is5BM"
      },
      "source": [
        "## Question 3: Visualizing multiple decision regions over time \n",
        "\n",
        "max score: 4\n",
        "\n",
        "Grader Note: What we want to see here is 5 plots corresponding to the 5 first iterations. The way these plots are obtained is not unique.\n"
      ]
    },
    {
      "cell_type": "markdown",
      "metadata": {
        "id": "2-japBw1s5BM"
      },
      "source": [
        "Here is the function for visualizing decision regions"
      ]
    },
    {
      "cell_type": "code",
      "metadata": {
        "id": "xYEgTzp0s5BN"
      },
      "source": [
        "from matplotlib.colors import ListedColormap\n",
        "\n",
        "\n",
        "def plot_decision_regions(X, y, classifier, resolution=0.02):\n",
        "\n",
        "    # setup marker generator and color map\n",
        "    markers = ('s', 'x', 'o', '^', 'v')\n",
        "    colors = ('red', 'blue', 'lightgreen', 'gray', 'cyan')\n",
        "    cmap = ListedColormap(colors[:len(np.unique(y))])\n",
        "\n",
        "    # plot the decision surface\n",
        "    x1_min, x1_max = X[:, 0].min() - 1, X[:, 0].max() + 1\n",
        "    x2_min, x2_max = X[:, 1].min() - 1, X[:, 1].max() + 1\n",
        "    xx1, xx2 = np.meshgrid(np.arange(x1_min, x1_max, resolution),\n",
        "                           np.arange(x2_min, x2_max, resolution))\n",
        "    Z = classifier.predict(np.array([xx1.ravel(), xx2.ravel()]).T)\n",
        "    Z = Z.reshape(xx1.shape)\n",
        "    plt.contourf(xx1, xx2, Z, alpha=0.3, cmap=cmap)\n",
        "    plt.xlim(xx1.min(), xx1.max())\n",
        "    plt.ylim(xx2.min(), xx2.max())\n",
        "\n",
        "    # plot class examples\n",
        "    for idx, cl in enumerate(np.unique(y)):\n",
        "        plt.scatter(x=X[y == cl, 0], \n",
        "                    y=X[y == cl, 1],\n",
        "                    alpha=0.8, \n",
        "                    c=colors[idx],\n",
        "                    marker=markers[idx], \n",
        "                    label=cl, \n",
        "                    edgecolor='black')"
      ],
      "execution_count": null,
      "outputs": []
    },
    {
      "cell_type": "code",
      "metadata": {
        "id": "BuQZjt4Ls5BP",
        "outputId": "f58f7c5c-594c-49df-ca9f-2c8dbdd4851b",
        "colab": {
          "base_uri": "https://localhost:8080/",
          "height": 280
        }
      },
      "source": [
        "plot_decision_regions(X, y, classifier=ppn)\n",
        "plt.xlabel('sepal length [cm]')\n",
        "plt.ylabel('petal length [cm]')\n",
        "plt.legend(loc='upper left')\n",
        "\n",
        "\n",
        "# plt.savefig('images/02_08.png', dpi=300)\n",
        "plt.show()"
      ],
      "execution_count": null,
      "outputs": [
        {
          "output_type": "display_data",
          "data": {
            "image/png": "[encoded data removed]",
            "text/plain": [
              "<Figure size 432x288 with 1 Axes>"
            ]
          },
          "metadata": {
            "tags": [],
            "needs_background": "light"
          }
        }
      ]
    },
    {
      "cell_type": "markdown",
      "metadata": {
        "id": "1flxKzOJs5BR"
      },
      "source": [
        "Using the above, give code that plots the decision regions for the first 5 epochs. Use learning rate = 0.01 and random seed = 1 when applicable."
      ]
    },
    {
      "cell_type": "code",
      "metadata": {
        "id": "lM90xLm9QvVm",
        "outputId": "744c9fa7-98df-488b-865b-08f4d13ede05",
        "colab": {
          "base_uri": "https://localhost:8080/",
          "height": 1000
        }
      },
      "source": [
        "\n",
        "#\n",
        "# with eta=0.01 all 5 plots will be the same\n",
        "# with eta=0.1 we get a different picture where the 5th plot shows the correct separation\n",
        "\n",
        "\n",
        "# Established a list of classifiers for 5 epochs\n",
        "cl = []\n",
        "# number of iterations to plot\n",
        "iter_plot = 5\n",
        "for i in range(0,iter_plot):\n",
        "    # create a perceptron\n",
        "    classifier = Perceptron(eta=0.1, n_iter = i, random_state=1, init_weight=[0.1,0.2,-0.1]);\n",
        "    # train the perceptron created\n",
        "    classifier.fit(X,y)\n",
        "    # store the trained perceptron into the predefined list\n",
        "    cl.append(classifier)\n",
        "\n",
        "# Plot based on classified gathered\n",
        "for idx,c in enumerate(cl):\n",
        "    print('Iteration number: {}'.format(idx+1))\n",
        "    plot_decision_regions(X, y, classifier=c)\n",
        "    plt.xlabel('sepal length [cm]')\n",
        "    plt.ylabel('petal length [cm]')\n",
        "    plt.legend(loc='upper left')\n",
        "    plt.show()"
      ],
      "execution_count": null,
      "outputs": [
        {
          "output_type": "stream",
          "text": [
            "Iteration number: 1\n"
          ],
          "name": "stdout"
        },
        {
          "output_type": "display_data",
          "data": {
            "image/png": "[encoded data removed]",
            "text/plain": [
              "<Figure size 432x288 with 1 Axes>"
            ]
          },
          "metadata": {
            "tags": [],
            "needs_background": "light"
          }
        },
        {
          "output_type": "stream",
          "text": [
            "Iteration number: 2\n"
          ],
          "name": "stdout"
        },
        {
          "output_type": "display_data",
          "data": {
            "image/png": "[encoded data removed]",
            "text/plain": [
              "<Figure size 432x288 with 1 Axes>"
            ]
          },
          "metadata": {
            "tags": [],
            "needs_background": "light"
          }
        },
        {
          "output_type": "stream",
          "text": [
            "Iteration number: 3\n"
          ],
          "name": "stdout"
        },
        {
          "output_type": "display_data",
          "data": {
            "image/png": "[encoded data removed]",
            "text/plain": [
              "<Figure size 432x288 with 1 Axes>"
            ]
          },
          "metadata": {
            "tags": [],
            "needs_background": "light"
          }
        },
        {
          "output_type": "stream",
          "text": [
            "Iteration number: 4\n"
          ],
          "name": "stdout"
        },
        {
          "output_type": "display_data",
          "data": {
            "image/png": "[encoded data removed]",
            "text/plain": [
              "<Figure size 432x288 with 1 Axes>"
            ]
          },
          "metadata": {
            "tags": [],
            "needs_background": "light"
          }
        },
        {
          "output_type": "stream",
          "text": [
            "Iteration number: 5\n"
          ],
          "name": "stdout"
        },
        {
          "output_type": "display_data",
          "data": {
            "image/png": "[encoded data removed]",
            "text/plain": [
              "<Figure size 432x288 with 1 Axes>"
            ]
          },
          "metadata": {
            "tags": [],
            "needs_background": "light"
          }
        }
      ]
    },
    {
      "cell_type": "markdown",
      "metadata": {
        "id": "K9NMguEVs5BU"
      },
      "source": [
        "## <font color = 'blue'> Question 4: Changing the data order in training </font>\n",
        "\n",
        "max score: 12"
      ]
    },
    {
      "cell_type": "markdown",
      "metadata": {
        "id": "YaspqG0Vs5BU"
      },
      "source": [
        "The data arrays (X,y) currently in the memory are organized so that the all data points with a given label (e.g. 'Setosa') lie in a contiguous part of the arrays (X,y). In this question we will check the impact of changing the order of the data in the number of iterations required to learn a correct perceptron. \n",
        "\n",
        "\n",
        "The commented code below needs a small change in order to generate a random shuffle (also called permutation) of the data). Please look up the particular functions of the code, see how they work and then do the required modification and uncomment/evaluate the code. "
      ]
    },
    {
      "cell_type": "code",
      "metadata": {
        "id": "-reBrt_IQvVp"
      },
      "source": [
        "# establish a random shuffle\n",
        "s = np.arange(len(y))\n",
        "np.random.shuffle(s)\n",
        "#shuffle sample\n",
        "X_shuffle = X[s];\n",
        "y_shuffle = y[s];"
      ],
      "execution_count": null,
      "outputs": []
    },
    {
      "cell_type": "markdown",
      "metadata": {
        "id": "iMRQkM_1s5BZ"
      },
      "source": [
        "Modify the code below as follows: <br>\n",
        "(i) Pick a sufficiently small $\\eta$ so that convergences takes 20 iterations or more <br>\n",
        "(ii) Add an extra line that fits the perceptron on the shuffled data <br>\n",
        "(iii) Plot the error for both training processes (the original, and the shuffled ata) \n",
        "\n",
        "What do you observe?"
      ]
    },
    {
      "cell_type": "markdown",
      "metadata": {
        "id": "R6TorcAhQvVz"
      },
      "source": [
        "### Note to grader: It is okay to create another perceptron and just fit X_shuffle, y_shuffle using the new perceptron\n",
        "\n",
        "> Indented block\n",
        "\n"
      ]
    },
    {
      "cell_type": "code",
      "metadata": {
        "id": "mut8kiOcQvVt",
        "outputId": "c9d5b525-b2c0-4193-891a-1adff132ca2b",
        "colab": {
          "base_uri": "https://localhost:8080/",
          "height": 575
        }
      },
      "source": [
        "# (i) From an answer above, we know that when eta = 0.00001, when the data is feed subsequently, it will require 40 iterations.\n",
        "# try this eta on the shuffed data\n",
        "ppn = Perceptron(eta = 0.00001)\n",
        "ppn.fit(X, y)\n",
        "print('Contiguous labeled data requires {} iterations'.format(ppn.iter_trained))\n",
        "plt.plot(range(1, len(ppn.errors_) + 1), ppn.errors_, marker='o')\n",
        "plt.xlabel('Epochs')\n",
        "plt.ylabel('Number of updates')\n",
        "\n",
        "plt.show()\n",
        "\n",
        "# (ii) Add a code line that fits the perceptron on the shuffled data\n",
        "ppn.fit(X_shuffle, y_shuffle)\n",
        "print('Shuffled data requires {} iterations'.format(ppn.iter_trained))\n",
        "plt.plot(range(1, len(ppn.errors_) + 1), ppn.errors_, marker='o')\n",
        "plt.xlabel('Epochs')\n",
        "plt.ylabel('Number of updates')\n",
        "\n",
        "plt.show()"
      ],
      "execution_count": null,
      "outputs": [
        {
          "output_type": "stream",
          "text": [
            "Contiguous labeled data requires 40 iterations\n"
          ],
          "name": "stdout"
        },
        {
          "output_type": "display_data",
          "data": {
            "image/png": "[encoded data removed]",
            "text/plain": [
              "<Figure size 432x288 with 1 Axes>"
            ]
          },
          "metadata": {
            "tags": [],
            "needs_background": "light"
          }
        },
        {
          "output_type": "stream",
          "text": [
            "Shuffled data requires 18 iterations\n"
          ],
          "name": "stdout"
        },
        {
          "output_type": "display_data",
          "data": {
            "image/png": "[encoded data removed]",
            "text/plain": [
              "<Figure size 432x288 with 1 Axes>"
            ]
          },
          "metadata": {
            "tags": [],
            "needs_background": "light"
          }
        }
      ]
    },
    {
      "cell_type": "markdown",
      "metadata": {
        "id": "2AYf1oGGs5Bi"
      },
      "source": [
        "# <font color='blue'>Question 5: Understanding linear transformations </font>\n",
        "\n",
        "max score: 4\n",
        "\n",
        "Suppose we have a 2-dimensional data set. Then we transform each data point $x^{(j)} = (x_1^{(j)}, x_2^{(j)})$ as follows: $\\tilde{x^{(j)}} = ( a x_1^{(j)}- c, b x_2^{(j)}-c)$, where $a,b,c$ are constant numbers. This is a linear transformation, because our transformed data comes from simple operations that use 'first powers' of the original data. \n",
        "\n",
        "\n",
        "If our given data set is linearly separable, is the same true for the transformed one? In the following cells you can plot a transformed version of the Iris dataset, so that you see how it behaves (for your choice of $a, b, c$.) But you should also try and justify your answer in a theoretical way: if there exists a  'good' perceptron for the original data set, what would be the weights for the perceptron that works on the transformed set?"
      ]
    },
    {
      "cell_type": "code",
      "metadata": {
        "id": "oXawcufks5Bi"
      },
      "source": [
        ""
      ],
      "execution_count": null,
      "outputs": []
    },
    {
      "cell_type": "code",
      "metadata": {
        "id": "17BejWSmQvWK",
        "outputId": "d6757e6f-8abc-4f5c-8863-d6a09f56c87a",
        "colab": {
          "base_uri": "https://localhost:8080/",
          "height": 102
        }
      },
      "source": [
        "# Yes. See the plot of the transformed data\n",
        "# First recall how X looks like. First 5 records\n",
        "X[0:5]"
      ],
      "execution_count": null,
      "outputs": [
        {
          "output_type": "execute_result",
          "data": {
            "text/plain": [
              "array([[5.1, 1.4],\n",
              "       [4.9, 1.4],\n",
              "       [4.7, 1.3],\n",
              "       [4.6, 1.5],\n",
              "       [5. , 1.4]])"
            ]
          },
          "metadata": {
            "tags": []
          },
          "execution_count": 50
        }
      ]
    },
    {
      "cell_type": "code",
      "metadata": {
        "id": "wnOXnW1XQvWN"
      },
      "source": [
        "# Pick a, b, c as follows\n",
        "a, b, c = np.random.randint(low=1, high=10, size=3)"
      ],
      "execution_count": null,
      "outputs": []
    },
    {
      "cell_type": "code",
      "metadata": {
        "id": "Z0IXwfifQvWS",
        "outputId": "5d98c893-5b89-4b9c-db75-d4bf8e98e3c8",
        "colab": {
          "base_uri": "https://localhost:8080/",
          "height": 102
        }
      },
      "source": [
        "# transform X\n",
        "X1 = np.array(a*X[:,0] - c)\n",
        "X2 = np.array(b*X[:,1] - c)\n",
        "X_new = np.stack((X1,X2), axis=-1)\n",
        "X_new[0:5]"
      ],
      "execution_count": null,
      "outputs": [
        {
          "output_type": "execute_result",
          "data": {
            "text/plain": [
              "array([[38.8,  3.6],\n",
              "       [37.2,  3.6],\n",
              "       [35.6,  3.2],\n",
              "       [34.8,  4. ],\n",
              "       [38. ,  3.6]])"
            ]
          },
          "metadata": {
            "tags": []
          },
          "execution_count": 52
        }
      ]
    },
    {
      "cell_type": "code",
      "metadata": {
        "id": "gC90ESE5QvWW",
        "outputId": "75fb6972-40f0-443f-99dc-9879bcc0e80b",
        "colab": {
          "base_uri": "https://localhost:8080/",
          "height": 279
        }
      },
      "source": [
        "# select setosa and versicolor\n",
        "y = df.iloc[0:100, 4].values\n",
        "y = np.where(y == 'Iris-setosa', -1, 1)\n",
        "\n",
        "# extract sepal length and petal length\n",
        "X_new = X_new[0:100]\n",
        "\n",
        "# plot data\n",
        "plt.scatter(X_new[:50, 0], X_new[:50, 1],\n",
        "            color='red', marker='o', label='setosa')\n",
        "plt.scatter(X_new[50:100, 0], X_new[50:100, 1],\n",
        "            color='blue', marker='x', label='versicolor')\n",
        "\n",
        "plt.xlabel('sepal length [cm]')\n",
        "plt.ylabel('petal length [cm]')\n",
        "plt.legend(loc='upper left')\n",
        "\n",
        "\n",
        "# plt.savefig('images/02_06.png', dpi=300)\n",
        "plt.show()"
      ],
      "execution_count": null,
      "outputs": [
        {
          "output_type": "display_data",
          "data": {
            "image/png": "[encoded data removed]",
            "text/plain": [
              "<Figure size 432x288 with 1 Axes>"
            ]
          },
          "metadata": {
            "tags": [],
            "needs_background": "light"
          }
        }
      ]
    },
    {
      "cell_type": "markdown",
      "metadata": {
        "id": "bKSVHTnrQvWa"
      },
      "source": [
        "If our given data set is linearly separable, the same is true for the transformed one since this is a linear transformation."
      ]
    },
    {
      "cell_type": "code",
      "metadata": {
        "id": "O3vkC9zFQvWb",
        "outputId": "15338dab-4ebc-49e1-a2b9-d4ba3383783e"
      },
      "source": [
        "# Observe the weights of the newly transform data set\n",
        "ppn = Perceptron(eta = 0.00001)\n",
        "ppn.fit(X, y)\n",
        "w_old = ppn.w_\n",
        "print(w_old)\n",
        "ppn.fit(X_new, y)\n",
        "print(ppn.w_)\n",
        "print(ppn.w_[0])"
      ],
      "execution_count": null,
      "outputs": [
        {
          "output_type": "stream",
          "text": [
            "[ 0.01528345 -0.00469356  0.00374228]\n",
            "[ 0.01632345 -0.00203956  0.00179028]\n",
            "0.016323453636632415\n"
          ],
          "name": "stdout"
        }
      ]
    },
    {
      "cell_type": "markdown",
      "metadata": {
        "id": "nHYM4y7YQvWh"
      },
      "source": [
        "If there exists a 'good' perceptron for the original data set, the weights for the perceptron that works on the transformed set can be as follows:\n",
        "Assume that we get the 'good' weight vector from the original dataset: $w_0, w_1, w_2$. \n",
        "The net input when assigning the label correctly for all data points will satisfy the following for all data point labeled '1'<br><br>\n",
        "net_input $= w_0 + w_1x_1 + w_2x_2 >= 0$ (1)\n",
        "<br><br>\n",
        "\n",
        "In the same way, for the transformed data, we have\n",
        "The net input when assigning the label correctly for all data points will satisfy the following for all data point labeled '1'<br><br>\n",
        "net_input $= w'_0 + w'_1x_1 + w'_2x_2 >= 0$ or $w'_0 - c(w'_1 + w'_2) + w'_1ax_1 + w'_2bx_2 >= 0$ (2)\n",
        "<br><br>\n",
        "\n",
        "(1) and (2) show that one possible weight set that will satisfy the transformed data would be <br>\n",
        "$w'_2 = w_2/b$<br>\n",
        "$w'_1 = w_1/a$<br>\n",
        "$w'_0 = w_0 + c(w_1/a + w_2/b)$\n",
        "\n",
        "Let's take a look at actual data to demonstrate the above"
      ]
    },
    {
      "cell_type": "code",
      "metadata": {
        "id": "M5ptm3HhQvWi"
      },
      "source": [
        "# apply to our transformed data\n",
        "w_new_0 = w_old[0]+c*(w_old[1]/a+w_old[2]/b)\n",
        "w_new_1 = w_old[1]/a\n",
        "w_new_2 = w_old[2]/b\n",
        "w_new = [w_new_0, w_new_1, w_new_2]"
      ],
      "execution_count": null,
      "outputs": []
    },
    {
      "cell_type": "code",
      "metadata": {
        "id": "_46U8KysQvWk",
        "outputId": "85e11b5a-7296-4eb3-e946-662b4a236e12"
      },
      "source": [
        "# setup marker generator and color map\n",
        "def predict(X):\n",
        "    \"\"\"Return class label after unit step\"\"\"\n",
        "    return np.where(np.dot(X, w_new[1:]) + w_new[0] >= 0.0, 1, -1)\n",
        "\n",
        "resolution = 0.02\n",
        "markers = ('s', 'x', 'o', '^', 'v')\n",
        "colors = ('red', 'blue', 'lightgreen', 'gray', 'cyan')\n",
        "cmap = ListedColormap(colors[:len(np.unique(y))])\n",
        "\n",
        "# plot the decision surface\n",
        "x1_min, x1_max = X_new[:, 0].min() - 1, X_new[:, 0].max() + 1\n",
        "x2_min, x2_max = X_new[:, 1].min() - 1, X_new[:, 1].max() + 1\n",
        "xx1, xx2 = np.meshgrid(np.arange(x1_min, x1_max, resolution),\n",
        "                       np.arange(x2_min, x2_max, resolution))\n",
        "Z = predict(np.array([xx1.ravel(), xx2.ravel()]).T)\n",
        "Z = Z.reshape(xx1.shape)\n",
        "plt.contourf(xx1, xx2, Z, alpha=0.3, cmap=cmap)\n",
        "plt.xlim(xx1.min(), xx1.max())\n",
        "plt.ylim(xx2.min(), xx2.max())\n",
        "\n",
        "# plot class examples\n",
        "for idx, cl in enumerate(np.unique(y)):\n",
        "    plt.scatter(x=X_new[y == cl, 0], \n",
        "                y=X_new[y == cl, 1],\n",
        "                alpha=0.8, \n",
        "                c=colors[idx],\n",
        "                marker=markers[idx], \n",
        "                label=cl, \n",
        "                edgecolor='black')"
      ],
      "execution_count": null,
      "outputs": [
        {
          "output_type": "display_data",
          "data": {
            "image/png": "[encoded data removed]",
            "text/plain": [
              "<Figure size 432x288 with 1 Axes>"
            ]
          },
          "metadata": {
            "tags": [],
            "needs_background": "light"
          }
        }
      ]
    }
  ]
}